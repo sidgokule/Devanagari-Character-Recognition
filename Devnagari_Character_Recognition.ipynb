{
 "cells": [
  {
   "cell_type": "markdown",
   "metadata": {},
   "source": [
    "# Analysis of Devnagari Character Recognition using Neural Networks\n",
    "\n",
    "### <font color=\"blue\">Team: </font>  \n",
    "### <font color=\"blue\">1)Priyanka Sawant</font>  \n",
    "### <font color=\"blue\">2)Siddhant Gokule</font>  "
   ]
  },
  {
   "cell_type": "markdown",
   "metadata": {},
   "source": [
    "# Import necessary libraries"
   ]
  },
  {
   "cell_type": "code",
   "execution_count": 1506,
   "metadata": {},
   "outputs": [],
   "source": [
    "import tensorflow as tf\n",
    "import matplotlib.pyplot as plt\n",
    "import matplotlib.image as mpimage\n",
    "from PIL import Image\n",
    "import numpy as np\n",
    "import os\n",
    "import random\n",
    "from sklearn import ensemble,preprocessing\n",
    "import keras.utils.np_utils"
   ]
  },
  {
   "cell_type": "markdown",
   "metadata": {},
   "source": [
    "# Read the images"
   ]
  },
  {
   "cell_type": "markdown",
   "metadata": {},
   "source": [
    "## Train the model on all data\n",
    "\n",
    "* The folder __Train_Full_Data__ contains 36 folders corresponding to each data.\n",
    "* Each folder contains 1700 images of dimensions 32 * 32.\n",
    "* All the images are grayscale images"
   ]
  },
  {
   "cell_type": "code",
   "execution_count": 1507,
   "metadata": {},
   "outputs": [
    {
     "name": "stdout",
     "output_type": "stream",
     "text": [
      "Size of the image matrix =  62668800\n"
     ]
    }
   ],
   "source": [
    "path = \"./Sample/Train_Full_Data/\"\n",
    "folders = os.listdir(path)\n",
    "imageList=[]\n",
    "imageMatrix = []\n",
    "newIm = []\n",
    "labels=[]\n",
    "# Get list of folders in current path\n",
    "for folder in folders:\n",
    "    newPath = path + folder  #Create new path by adding folder name\n",
    "    folderName = os.path.split(os.path.abspath(newPath))[1]\n",
    "    characterName = folderName.split(\"_\")[2]\n",
    "    imageList=[f for f in os.listdir(newPath) if os.path.splitext(f)[-1] == '.png'] #Check if PNG files only then add\n",
    "    for image in imageList:   #Traverse the list of files and add each file name to the imageFile\n",
    "        im = Image.open(newPath+\"//\"+image)\n",
    "        labels.append(characterName)\n",
    "        imageArray = np.asarray(im.getdata())\n",
    "        flattenedImageArray = imageArray.flatten()\n",
    "        imageMatrix.append(flattenedImageArray)\n",
    "print(\"Size of the image matrix = \",np.size(imageMatrix))"
   ]
  },
  {
   "cell_type": "markdown",
   "metadata": {},
   "source": [
    "## Convert matrix to array"
   ]
  },
  {
   "cell_type": "code",
   "execution_count": 1508,
   "metadata": {},
   "outputs": [
    {
     "name": "stdout",
     "output_type": "stream",
     "text": [
      "(61200, 1024)\n"
     ]
    }
   ],
   "source": [
    "a = np.array(imageMatrix)\n",
    "a\n",
    "print(a.shape)"
   ]
  },
  {
   "cell_type": "markdown",
   "metadata": {},
   "source": [
    "## Separate the features and labels of the images"
   ]
  },
  {
   "cell_type": "code",
   "execution_count": 1509,
   "metadata": {},
   "outputs": [
    {
     "name": "stdout",
     "output_type": "stream",
     "text": [
      "Features size =  (61200, 1024)\n",
      "Labels size =  (61200,)\n",
      "['yna' 'yna' 'yna' ..., 'jha' 'jha' 'jha']\n"
     ]
    }
   ],
   "source": [
    "#define variables\n",
    "n_samples = len(a)\n",
    "X = a.reshape((n_samples,-1))\n",
    "T = np.array(labels)\n",
    "print('Features size = ',X.shape)\n",
    "print('Labels size = ',T.shape)\n",
    "print(T)\n"
   ]
  },
  {
   "cell_type": "markdown",
   "metadata": {},
   "source": [
    "## Transform categorical variables using Onehot encoding"
   ]
  },
  {
   "cell_type": "code",
   "execution_count": 1510,
   "metadata": {
    "collapsed": true
   },
   "outputs": [],
   "source": [
    "le=preprocessing.LabelEncoder()\n",
    "le.fit(T)\n",
    "T=le.transform(T)\n",
    "\n",
    "T=keras.utils.np_utils.to_categorical(T)"
   ]
  },
  {
   "cell_type": "markdown",
   "metadata": {},
   "source": [
    "## Print the mapping of one hot encoding"
   ]
  },
  {
   "cell_type": "code",
   "execution_count": 1511,
   "metadata": {},
   "outputs": [
    {
     "name": "stdout",
     "output_type": "stream",
     "text": [
      "{'adna': 0, 'ba': 1, 'bha': 2, 'cha': 3, 'chha': 4, 'chhya': 5, 'da': 6, 'daa': 7, 'dha': 8, 'dhaa': 9, 'ga': 10, 'gha': 11, 'gya': 12, 'ha': 13, 'ja': 14, 'jha': 15, 'ka': 16, 'kha': 17, 'kna': 18, 'la': 19, 'ma': 20, 'motosaw': 21, 'na': 22, 'pa': 23, 'patalosaw': 24, 'petchiryakha': 25, 'pha': 26, 'ra': 27, 'taamatar': 28, 'tabala': 29, 'tha': 30, 'thaa': 31, 'tra': 32, 'waw': 33, 'yaw': 34, 'yna': 35}\n"
     ]
    }
   ],
   "source": [
    "le_name_mapping = dict(zip(le.classes_, le.transform(le.classes_)))\n",
    "print(le_name_mapping)"
   ]
  },
  {
   "cell_type": "markdown",
   "metadata": {},
   "source": [
    "## Split the data as train and test data"
   ]
  },
  {
   "cell_type": "code",
   "execution_count": 1512,
   "metadata": {},
   "outputs": [],
   "source": [
    "from sklearn.cross_validation import train_test_split\n",
    "X_train, X_test, T_train, T_test = train_test_split(X, T, test_size=0.3, random_state=34)"
   ]
  },
  {
   "cell_type": "code",
   "execution_count": 1513,
   "metadata": {},
   "outputs": [
    {
     "name": "stdout",
     "output_type": "stream",
     "text": [
      "Train size =  (42840, 1024)   (42840, 36)\n"
     ]
    }
   ],
   "source": [
    "print('Train size = ',X_train.shape,\" \",T_train.shape)"
   ]
  },
  {
   "cell_type": "markdown",
   "metadata": {},
   "source": [
    "## Create a Convolution Neural Network for feature extraction "
   ]
  },
  {
   "cell_type": "code",
   "execution_count": 1514,
   "metadata": {
    "collapsed": true
   },
   "outputs": [],
   "source": [
    "import numpy as np\n",
    "import keras\n",
    "from keras import models, layers, losses, optimizers, metrics\n",
    "from keras.utils import to_categorical\n",
    "from sklearn.preprocessing import StandardScaler,LabelEncoder,OneHotEncoder\n",
    "import pandas as pd\n",
    "from sklearn.cross_validation import train_test_split\n",
    "import matplotlib.pyplot as plt\n",
    "%matplotlib inline\n",
    "from keras.layers import Dense, Conv2D, MaxPool2D, Flatten, Dropout\n",
    "from keras.models import Sequential\n"
   ]
  },
  {
   "cell_type": "code",
   "execution_count": 1515,
   "metadata": {
    "collapsed": true
   },
   "outputs": [],
   "source": [
    "img_height_rows = 32\n",
    "img_width_cols = 32"
   ]
  },
  {
   "cell_type": "code",
   "execution_count": 1516,
   "metadata": {},
   "outputs": [
    {
     "name": "stdout",
     "output_type": "stream",
     "text": [
      "(32, 32, 1)\n"
     ]
    }
   ],
   "source": [
    "im_shape = (img_height_rows, img_width_cols, 1)\n",
    "print(im_shape)\n",
    "x_train = X_train.reshape(X_train.shape[0], *im_shape) # Python TIP :the * operator unpacks the tuple\n",
    "x_test = X_test.reshape(X_test.shape[0], *im_shape)"
   ]
  },
  {
   "cell_type": "code",
   "execution_count": 1517,
   "metadata": {
    "collapsed": true
   },
   "outputs": [],
   "source": [
    "cnn = Sequential()\n",
    "\n",
    "kernelSize = (3, 3)\n",
    "ip_activation = 'relu'\n",
    "ip_conv_0 = Conv2D(filters=4, kernel_size=kernelSize, input_shape=im_shape, activation=ip_activation)\n",
    "cnn.add(ip_conv_0)"
   ]
  },
  {
   "cell_type": "code",
   "execution_count": 1518,
   "metadata": {
    "collapsed": true
   },
   "outputs": [],
   "source": [
    "# Add the next Convolutional+Activation layer\n",
    "ip_conv_0_1 = Conv2D(filters=4, kernel_size=kernelSize, activation=ip_activation)\n",
    "cnn.add(ip_conv_0_1)\n",
    "\n",
    "# Add the Pooling layer\n",
    "pool_0 = MaxPool2D(pool_size=(2, 2), strides=(2, 2), padding=\"same\")\n",
    "cnn.add(pool_0)"
   ]
  },
  {
   "cell_type": "code",
   "execution_count": 1519,
   "metadata": {
    "collapsed": true
   },
   "outputs": [],
   "source": [
    "ip_conv_1 = Conv2D(filters=4, kernel_size=kernelSize, activation=ip_activation)\n",
    "cnn.add(ip_conv_1)\n",
    "ip_conv_1_1 = Conv2D(filters=4, kernel_size=kernelSize, activation=ip_activation)\n",
    "cnn.add(ip_conv_1_1)\n",
    "\n",
    "pool_1 = MaxPool2D(pool_size=(2, 2), strides=(2, 2), padding=\"same\")\n",
    "cnn.add(pool_1)"
   ]
  },
  {
   "cell_type": "code",
   "execution_count": 1520,
   "metadata": {
    "collapsed": true
   },
   "outputs": [],
   "source": [
    "# Let's deactivate around 20% of neurons randomly for training\n",
    "# drop_layer_0 = Dropout(0.2)\n",
    "# cnn.add(drop_layer_0)"
   ]
  },
  {
   "cell_type": "code",
   "execution_count": 1521,
   "metadata": {
    "collapsed": true
   },
   "outputs": [],
   "source": [
    "flat_layer_0 = Flatten()\n",
    "cnn.add(Flatten())"
   ]
  },
  {
   "cell_type": "code",
   "execution_count": 1522,
   "metadata": {
    "collapsed": true
   },
   "outputs": [],
   "source": [
    "# Now add the Dense layers\n",
    "h_dense_0 = Dense(units=20, activation=ip_activation, kernel_initializer='uniform')\n",
    "cnn.add(h_dense_0)\n",
    "# Let's add one more before proceeding to the output layer\n",
    "h_dense_1 = Dense(units=1024, activation=ip_activation, kernel_initializer='uniform',name='dense11')\n",
    "cnn.add(h_dense_1)"
   ]
  },
  {
   "cell_type": "code",
   "execution_count": 1523,
   "metadata": {
    "collapsed": true
   },
   "outputs": [],
   "source": [
    "n_classes = 36\n",
    "op_activation = 'softmax'\n",
    "output_layer = Dense(units=n_classes, activation=op_activation, kernel_initializer='uniform')\n",
    "cnn.add(output_layer)"
   ]
  },
  {
   "cell_type": "code",
   "execution_count": 1524,
   "metadata": {
    "collapsed": true
   },
   "outputs": [],
   "source": [
    "opt = optimizers.Adagrad(lr=0.001)\n",
    "loss = 'categorical_crossentropy'\n",
    "metrics = ['accuracy']\n",
    "# Compile the classifier using the configuration we want\n",
    "cnn.compile(optimizer=opt, loss=loss, metrics=metrics)"
   ]
  },
  {
   "cell_type": "markdown",
   "metadata": {},
   "source": [
    "## Print model summary"
   ]
  },
  {
   "cell_type": "code",
   "execution_count": 1525,
   "metadata": {
    "scrolled": true
   },
   "outputs": [
    {
     "name": "stdout",
     "output_type": "stream",
     "text": [
      "_________________________________________________________________\n",
      "Layer (type)                 Output Shape              Param #   \n",
      "=================================================================\n",
      "conv2d_120 (Conv2D)          (None, 30, 30, 4)         40        \n",
      "_________________________________________________________________\n",
      "conv2d_121 (Conv2D)          (None, 28, 28, 4)         148       \n",
      "_________________________________________________________________\n",
      "max_pooling2d_60 (MaxPooling (None, 14, 14, 4)         0         \n",
      "_________________________________________________________________\n",
      "conv2d_122 (Conv2D)          (None, 12, 12, 4)         148       \n",
      "_________________________________________________________________\n",
      "conv2d_123 (Conv2D)          (None, 10, 10, 4)         148       \n",
      "_________________________________________________________________\n",
      "max_pooling2d_61 (MaxPooling (None, 5, 5, 4)           0         \n",
      "_________________________________________________________________\n",
      "flatten_60 (Flatten)         (None, 100)               0         \n",
      "_________________________________________________________________\n",
      "dense_59 (Dense)             (None, 20)                2020      \n",
      "_________________________________________________________________\n",
      "dense11 (Dense)              (None, 1024)              21504     \n",
      "_________________________________________________________________\n",
      "dense_60 (Dense)             (None, 36)                36900     \n",
      "=================================================================\n",
      "Total params: 60,908\n",
      "Trainable params: 60,908\n",
      "Non-trainable params: 0\n",
      "_________________________________________________________________\n",
      "None\n"
     ]
    }
   ],
   "source": [
    "print(cnn.summary())"
   ]
  },
  {
   "cell_type": "markdown",
   "metadata": {},
   "source": [
    "## Fit the model on train data and test on test data "
   ]
  },
  {
   "cell_type": "code",
   "execution_count": 1526,
   "metadata": {},
   "outputs": [
    {
     "name": "stdout",
     "output_type": "stream",
     "text": [
      "Train on 42840 samples, validate on 18360 samples\n",
      "Epoch 1/10\n",
      "42840/42840 [==============================] - 27s 636us/step - loss: 2.4581 - acc: 0.3239 - val_loss: 1.9653 - val_acc: 0.4409\n",
      "Epoch 2/10\n",
      "42840/42840 [==============================] - 25s 588us/step - loss: 1.7785 - acc: 0.4982 - val_loss: 1.6624 - val_acc: 0.5247\n",
      "Epoch 3/10\n",
      "42840/42840 [==============================] - 29s 678us/step - loss: 1.5558 - acc: 0.5585 - val_loss: 1.4855 - val_acc: 0.5782\n",
      "Epoch 4/10\n",
      "42840/42840 [==============================] - 28s 660us/step - loss: 1.4145 - acc: 0.5949 - val_loss: 1.3734 - val_acc: 0.6127\n",
      "Epoch 5/10\n",
      "42840/42840 [==============================] - 29s 688us/step - loss: 1.3105 - acc: 0.6266 - val_loss: 1.2918 - val_acc: 0.6333\n",
      "Epoch 6/10\n",
      "42840/42840 [==============================] - 28s 662us/step - loss: 1.2304 - acc: 0.6490 - val_loss: 1.2154 - val_acc: 0.6545\n",
      "Epoch 7/10\n",
      "42840/42840 [==============================] - 29s 688us/step - loss: 1.1653 - acc: 0.6640 - val_loss: 1.1561 - val_acc: 0.6699\n",
      "Epoch 8/10\n",
      "42840/42840 [==============================] - 30s 690us/step - loss: 1.1111 - acc: 0.6797 - val_loss: 1.1094 - val_acc: 0.6834\n",
      "Epoch 9/10\n",
      "42840/42840 [==============================] - 30s 706us/step - loss: 1.0655 - acc: 0.6915 - val_loss: 1.0694 - val_acc: 0.6902\n",
      "Epoch 10/10\n",
      "42840/42840 [==============================] - 27s 619us/step - loss: 1.0260 - acc: 0.7028 - val_loss: 1.0302 - val_acc: 0.7039\n"
     ]
    }
   ],
   "source": [
    "history = cnn.fit(x_train, T_train,\n",
    "                  batch_size=100, epochs=10,\n",
    "                  validation_data=(x_test, T_test))"
   ]
  },
  {
   "cell_type": "markdown",
   "metadata": {},
   "source": [
    "#### Display the accuracy of the model"
   ]
  },
  {
   "cell_type": "code",
   "execution_count": 1527,
   "metadata": {},
   "outputs": [
    {
     "name": "stdout",
     "output_type": "stream",
     "text": [
      "Accuracy: 70.39%\n"
     ]
    }
   ],
   "source": [
    "scores = cnn.evaluate(x_test, T_test, verbose=0)\n",
    "print(\"Accuracy: %.2f%%\" % (scores[1]*100))"
   ]
  },
  {
   "cell_type": "markdown",
   "metadata": {},
   "source": [
    "### Plot the model accuracy over increasing epochs"
   ]
  },
  {
   "cell_type": "code",
   "execution_count": 1528,
   "metadata": {},
   "outputs": [
    {
     "data": {
      "text/plain": [
       "<matplotlib.legend.Legend at 0x1540e66d5f8>"
      ]
     },
     "execution_count": 1528,
     "metadata": {},
     "output_type": "execute_result"
    },
    {
     "data": {
      "image/png": "[encoded data removed]",
      "text/plain": [
       "<matplotlib.figure.Figure at 0x1540e662588>"
      ]
     },
     "metadata": {},
     "output_type": "display_data"
    }
   ],
   "source": [
    "plt.plot(history.history['acc'])\n",
    "plt.plot(history.history['val_acc'])\n",
    "plt.legend(['Training Accuracy','Validation Accuracy'])"
   ]
  },
  {
   "cell_type": "markdown",
   "metadata": {},
   "source": [
    "## Extract the features from the CNN second last layer"
   ]
  },
  {
   "cell_type": "code",
   "execution_count": 1529,
   "metadata": {
    "collapsed": true
   },
   "outputs": [],
   "source": [
    "from keras.models import Model\n",
    "\n",
    "model = cnn\n",
    "layer_name= 'dense11'\n",
    "intermediate_layer_model = Model(inputs=cnn.input,\n",
    "                                 outputs=model.get_layer(layer_name).output)\n",
    "intermediate_output = intermediate_layer_model.predict(x_train)"
   ]
  },
  {
   "cell_type": "markdown",
   "metadata": {},
   "source": [
    "#### Use the features extracted from CNN to pass to the classifier for classification "
   ]
  },
  {
   "cell_type": "code",
   "execution_count": 1530,
   "metadata": {
    "collapsed": true
   },
   "outputs": [],
   "source": [
    "x_train = intermediate_output"
   ]
  },
  {
   "cell_type": "markdown",
   "metadata": {},
   "source": [
    "#### Convert the target encoded back to pass on to the different classifiers"
   ]
  },
  {
   "cell_type": "code",
   "execution_count": 1531,
   "metadata": {},
   "outputs": [
    {
     "data": {
      "text/plain": [
       "array([ 9, 14,  6, ..., 13, 21, 29], dtype=int64)"
      ]
     },
     "execution_count": 1531,
     "metadata": {},
     "output_type": "execute_result"
    }
   ],
   "source": [
    "import numpy as np\n",
    "T1 = np.argmax(T_train, axis=1)\n",
    "T1"
   ]
  },
  {
   "cell_type": "markdown",
   "metadata": {},
   "source": [
    "### Split the data in train and test data before passing the features classifier for prediction"
   ]
  },
  {
   "cell_type": "code",
   "execution_count": 1532,
   "metadata": {
    "collapsed": true
   },
   "outputs": [],
   "source": [
    "from sklearn.cross_validation import train_test_split\n",
    "X_train, X_test, T_train, T_test = train_test_split(x_train, T1, test_size=0.3, random_state=34)"
   ]
  },
  {
   "cell_type": "code",
   "execution_count": 1533,
   "metadata": {
    "collapsed": true
   },
   "outputs": [],
   "source": [
    "from sklearn.metrics import accuracy_score, confusion_matrix"
   ]
  },
  {
   "cell_type": "markdown",
   "metadata": {},
   "source": [
    "## Create a generic function to run the classifiers and predict accuracy "
   ]
  },
  {
   "cell_type": "code",
   "execution_count": 1547,
   "metadata": {},
   "outputs": [],
   "source": [
    "def genericClassifier(clfr, x_train_data, y_train_data, x_test_data, y_test_data, acc_str, matrix_header_str):\n",
    "    \"\"\"run chosen classifier and display results\"\"\"\n",
    "    start_time = time.time()\n",
    "    clfr.fit(x_train_data, y_train_data)\n",
    "    y_pred = clfr.predict(x_test_data)\n",
    "    print(\"Time taken for prediction = %f seconds\" % (time.time() - start_time))\n",
    "\n",
    "    print(acc_str.format(accuracy_score(y_test_data, y_pred) * 100))\n",
    "    acc=accuracy_score(y_test_data, y_pred) * 100\n",
    "    print(\"acc=\",acc)\n",
    "    return y_pred,acc\n"
   ]
  },
  {
   "cell_type": "markdown",
   "metadata": {},
   "source": [
    "## Pass the features to Random Forest Classifier for predictions"
   ]
  },
  {
   "cell_type": "code",
   "execution_count": 1548,
   "metadata": {},
   "outputs": [
    {
     "name": "stdout",
     "output_type": "stream",
     "text": [
      "Random Forest Classifier starting ...\n",
      "Time taken for prediction = 12.111731 seconds\n",
      "CNN-Random Forest Accuracy: 71.7%\n",
      "acc= 71.6542172425\n"
     ]
    }
   ],
   "source": [
    "from sklearn.ensemble import RandomForestClassifier\n",
    "import time\n",
    "print('Random Forest Classifier starting ...')\n",
    "fullDataRandomForestClassifier = RandomForestClassifier()\n",
    "y_pred,rfacc=genericClassifier(fullDataRandomForestClassifier, X_train, T_train, X_test, T_test, \"CNN-Random Forest Accuracy: {0:0.1f}%\", \"SVM Confusion matrix\")"
   ]
  },
  {
   "cell_type": "markdown",
   "metadata": {},
   "source": [
    "## Pass the features to Multi-Layer Perceptron Classifier for predictions"
   ]
  },
  {
   "cell_type": "code",
   "execution_count": 1549,
   "metadata": {},
   "outputs": [
    {
     "name": "stdout",
     "output_type": "stream",
     "text": [
      "Multi-Layer Perceptron Classifier starting ...\n",
      "Time taken for prediction = 77.378430 seconds\n",
      "CNN-Multi-Layer Perceptron Accuracy: 77.3%\n",
      "acc= 77.2642390289\n"
     ]
    }
   ],
   "source": [
    "from sklearn.neural_network import MLPClassifier\n",
    "import time\n",
    "print('Multi-Layer Perceptron Classifier starting ...')\n",
    "fullDataMLPClassifier = MLPClassifier()\n",
    "y_pred,mlpacc=genericClassifier(fullDataMLPClassifier, X_train, T_train, X_test, T_test, \"CNN-Multi-Layer Perceptron Accuracy: {0:0.1f}%\", \"SVM Confusion matrix\")"
   ]
  },
  {
   "cell_type": "markdown",
   "metadata": {},
   "source": [
    "## Pass the features to KNN Classifier for predictions"
   ]
  },
  {
   "cell_type": "code",
   "execution_count": 1553,
   "metadata": {},
   "outputs": [
    {
     "name": "stdout",
     "output_type": "stream",
     "text": [
      "KNN Classifier starting ...\n",
      "Time taken for prediction = 548.301413 seconds\n",
      "CNN-KNN Accuracy: 80.6%\n",
      "acc= 80.578898226\n"
     ]
    }
   ],
   "source": [
    "from sklearn.neighbors import KNeighborsClassifier\n",
    "import time\n",
    "print('KNN Classifier starting ...')\n",
    "fullDataKNNClassifier = KNeighborsClassifier()\n",
    "y_pred,knnacc=genericClassifier(fullDataKNNClassifier, X_train, T_train, X_test, T_test, \"CNN-KNN Accuracy: {0:0.1f}%\", \"SVM Confusion matrix\")"
   ]
  },
  {
   "cell_type": "code",
   "execution_count": null,
   "metadata": {
    "collapsed": true
   },
   "outputs": [],
   "source": [
    "objects = ('RandomForest', 'MLP', 'KNN')\n",
    "y_pos = np.arange(len(objects))\n",
    "performance = []\n",
    " \n",
    "plt.bar(y_pos, performance, align='center', alpha=0.5)\n",
    "plt.xticks(y_pos, objects)\n",
    "plt.ylabel('Usage')\n",
    "plt.title('Programming language usage')\n",
    " \n",
    "plt.show()"
   ]
  },
  {
   "cell_type": "markdown",
   "metadata": {},
   "source": [
    "# Read a Devanagri word from image and extract its characters using Tesseract OCR\n",
    "\n",
    "#### <font color=\"red\">Note:Please install the 'tesseract-ocr-setup-3.05.01.exe' file adding the Hindi and Marathi Languages before implemeting code below</font>  "
   ]
  },
  {
   "cell_type": "markdown",
   "metadata": {},
   "source": [
    "### Read the wod file with Devanagari word and extract characters"
   ]
  },
  {
   "cell_type": "markdown",
   "metadata": {},
   "source": [
    "### Image 1"
   ]
  },
  {
   "cell_type": "markdown",
   "metadata": {},
   "source": [
    "<font color=\"blue\">Give the path of tesseract.exe below</font> "
   ]
  },
  {
   "cell_type": "code",
   "execution_count": 1699,
   "metadata": {},
   "outputs": [],
   "source": [
    "import pytesseract\n",
    "im=Image.open(\"word1.PNG\")\n",
    "pytesseract.pytesseract.tesseract_cmd=\"C:\\\\Program Files\\\\Tesseract-OCR\\\\tesseract.exe\"\n",
    "text=pytesseract.image_to_string(im,lang='hin')"
   ]
  },
  {
   "cell_type": "markdown",
   "metadata": {},
   "source": [
    "### Store the individual characters as an image file"
   ]
  },
  {
   "cell_type": "code",
   "execution_count": 1700,
   "metadata": {
    "collapsed": true
   },
   "outputs": [],
   "source": [
    "from PIL import Image, ImageFont, ImageDraw\n",
    "import string, random\n",
    "length=len(text)\n",
    "for i in range(0,length):\n",
    "    img=Image.new(\"RGB\", [400, 400])\n",
    "    font = ImageFont.truetype(\"mangal.ttf\", 200)\n",
    "    draw = ImageDraw.Draw(img)\n",
    "    draw.text((125, 30),text[i],(255,255,255),font=font)\n",
    "    draw = ImageDraw.Draw(img)\n",
    "    fileName = \"./testFiles/word1_\"+str(i)+\".png\"\n",
    "    img.save(fileName)"
   ]
  },
  {
   "cell_type": "markdown",
   "metadata": {},
   "source": [
    "### Read the character images shown above to be passed to the classifiers trained on features extracted from CNN "
   ]
  },
  {
   "cell_type": "code",
   "execution_count": 1556,
   "metadata": {},
   "outputs": [
    {
     "data": {
      "text/plain": [
       "(1, 1024)"
      ]
     },
     "execution_count": 1556,
     "metadata": {},
     "output_type": "execute_result"
    },
    {
     "data": {
      "image/png": "[encoded data removed]",
      "text/plain": [
       "<matplotlib.figure.Figure at 0x1540c83d4a8>"
      ]
     },
     "metadata": {},
     "output_type": "display_data"
    }
   ],
   "source": [
    "img=Image.open('./testFiles/word1_0.png')\n",
    "img=img.convert('L')\n",
    "img=img.resize((32,32))\n",
    "imgData = np.array(img)\n",
    "plt.title('Label: ka')\n",
    "plt.imshow(imgData)\n",
    "# inverted_image.save('new1.jpg')\n",
    "img.size\n",
    "# np.set_printoptions(threshold=100)\n",
    "flat=imgData.flatten()\n",
    "np.shape(flat)\n",
    "flat=flat.reshape(1,-1)\n",
    "flat.shape"
   ]
  },
  {
   "cell_type": "markdown",
   "metadata": {},
   "source": [
    "### Try to predict the character using Random Forest Classifier  "
   ]
  },
  {
   "cell_type": "code",
   "execution_count": 1557,
   "metadata": {},
   "outputs": [
    {
     "data": {
      "text/plain": [
       "'tha'"
      ]
     },
     "execution_count": 1557,
     "metadata": {},
     "output_type": "execute_result"
    }
   ],
   "source": [
    "y_pred=fullDataRandomForestClassifier.predict(flat)\n",
    "le.inverse_transform(y_pred[0])"
   ]
  },
  {
   "cell_type": "markdown",
   "metadata": {},
   "source": [
    "### Try to predict the character using MLP Classifier "
   ]
  },
  {
   "cell_type": "code",
   "execution_count": 1558,
   "metadata": {},
   "outputs": [
    {
     "data": {
      "text/plain": [
       "'chha'"
      ]
     },
     "execution_count": 1558,
     "metadata": {},
     "output_type": "execute_result"
    }
   ],
   "source": [
    "y_pred=fullDataMLPClassifier.predict(flat)\n",
    "le.inverse_transform(y_pred[0])"
   ]
  },
  {
   "cell_type": "markdown",
   "metadata": {},
   "source": [
    "### Try to predict the character using KNN Classifier "
   ]
  },
  {
   "cell_type": "code",
   "execution_count": 1559,
   "metadata": {},
   "outputs": [
    {
     "data": {
      "text/plain": [
       "'da'"
      ]
     },
     "execution_count": 1559,
     "metadata": {},
     "output_type": "execute_result"
    }
   ],
   "source": [
    "y_pred=fullDataKNNClassifier.predict(flat)\n",
    "le.inverse_transform(y_pred[0])"
   ]
  },
  {
   "cell_type": "markdown",
   "metadata": {},
   "source": [
    "## Image 2 character 1"
   ]
  },
  {
   "cell_type": "code",
   "execution_count": 1560,
   "metadata": {
    "collapsed": true
   },
   "outputs": [],
   "source": [
    "import pytesseract\n",
    "im=Image.open(\"word2.JPG\")\n",
    "pytesseract.pytesseract.tesseract_cmd=\"C:\\\\Program Files\\\\Tesseract-OCR\\\\tesseract.exe\"\n",
    "text=pytesseract.image_to_string(im,lang='hin')\n",
    "\n",
    "text0=text[0]\n",
    "text1=text[1]\n"
   ]
  },
  {
   "cell_type": "code",
   "execution_count": 1561,
   "metadata": {
    "collapsed": true
   },
   "outputs": [],
   "source": [
    "from PIL import Image, ImageFont, ImageDraw\n",
    "import string, random\n",
    "length=len(text)\n",
    "for i in range(0,length):\n",
    "    img=Image.new(\"RGB\", [400, 400])\n",
    "    font = ImageFont.truetype(\"mangal.ttf\", 200)\n",
    "    draw = ImageDraw.Draw(img)\n",
    "    draw.text((125, 30),text[i],(255,255,255),font=font)\n",
    "    draw = ImageDraw.Draw(img)\n",
    "    fileName = \"./testFiles/word2_\"+str(i)+\".png\"\n",
    "    img.save(fileName)"
   ]
  },
  {
   "cell_type": "code",
   "execution_count": 1562,
   "metadata": {},
   "outputs": [
    {
     "data": {
      "text/plain": [
       "(1, 1024)"
      ]
     },
     "execution_count": 1562,
     "metadata": {},
     "output_type": "execute_result"
    },
    {
     "data": {
      "image/png": "[encoded data removed]",
      "text/plain": [
       "<matplotlib.figure.Figure at 0x1540c859b38>"
      ]
     },
     "metadata": {},
     "output_type": "display_data"
    }
   ],
   "source": [
    "img=Image.open('./testFiles/word2_1.png')\n",
    "img=img.convert('L')\n",
    "img=img.resize((32,32))\n",
    "imgData = np.array(img)\n",
    "plt.imshow(imgData)\n",
    "plt.title(\"Label: ha\")\n",
    "# inverted_image.save('new1.jpg')\n",
    "img.size\n",
    "flat=imgData.flatten()\n",
    "np.shape(flat)\n",
    "flat=flat.reshape(1,-1)\n",
    "flat.shape"
   ]
  },
  {
   "cell_type": "code",
   "execution_count": 1563,
   "metadata": {},
   "outputs": [
    {
     "data": {
      "text/plain": [
       "'dhaa'"
      ]
     },
     "execution_count": 1563,
     "metadata": {},
     "output_type": "execute_result"
    }
   ],
   "source": [
    "y_pred=fullDataRandomForestClassifier.predict(flat)\n",
    "le.inverse_transform(y_pred[0])"
   ]
  },
  {
   "cell_type": "code",
   "execution_count": 1564,
   "metadata": {},
   "outputs": [
    {
     "data": {
      "text/plain": [
       "'chha'"
      ]
     },
     "execution_count": 1564,
     "metadata": {},
     "output_type": "execute_result"
    }
   ],
   "source": [
    "y_pred=fullDataMLPClassifier.predict(flat)\n",
    "le.inverse_transform(y_pred[0])"
   ]
  },
  {
   "cell_type": "code",
   "execution_count": 1565,
   "metadata": {},
   "outputs": [
    {
     "data": {
      "text/plain": [
       "'chha'"
      ]
     },
     "execution_count": 1565,
     "metadata": {},
     "output_type": "execute_result"
    }
   ],
   "source": [
    "y_pred=fullDataKNNClassifier.predict(flat)\n",
    "le.inverse_transform(y_pred[0])"
   ]
  },
  {
   "cell_type": "markdown",
   "metadata": {},
   "source": [
    "As it can be seen the predictions aren't good enough due to large number of label classes, <font color=\"blue\">36 to be precise</font>. In order to improve the accuracy let's try to train the model on constrained number of samples and check if the accuracy improves."
   ]
  },
  {
   "cell_type": "markdown",
   "metadata": {},
   "source": [
    " "
   ]
  },
  {
   "cell_type": "markdown",
   "metadata": {},
   "source": [
    " "
   ]
  },
  {
   "cell_type": "markdown",
   "metadata": {},
   "source": [
    " "
   ]
  },
  {
   "cell_type": "markdown",
   "metadata": {},
   "source": [
    " "
   ]
  },
  {
   "cell_type": "markdown",
   "metadata": {},
   "source": [
    " "
   ]
  },
  {
   "cell_type": "markdown",
   "metadata": {},
   "source": [
    " "
   ]
  },
  {
   "cell_type": "markdown",
   "metadata": {},
   "source": [
    " "
   ]
  },
  {
   "cell_type": "markdown",
   "metadata": {},
   "source": [
    " "
   ]
  },
  {
   "cell_type": "markdown",
   "metadata": {},
   "source": [
    " "
   ]
  },
  {
   "cell_type": "markdown",
   "metadata": {},
   "source": [
    " "
   ]
  },
  {
   "cell_type": "markdown",
   "metadata": {},
   "source": [
    " "
   ]
  },
  {
   "cell_type": "markdown",
   "metadata": {},
   "source": [
    " "
   ]
  },
  {
   "cell_type": "markdown",
   "metadata": {},
   "source": [
    " "
   ]
  },
  {
   "cell_type": "markdown",
   "metadata": {},
   "source": [
    "# Train the model on less data "
   ]
  },
  {
   "cell_type": "markdown",
   "metadata": {},
   "source": [
    "### Read the reduced number of images"
   ]
  },
  {
   "cell_type": "code",
   "execution_count": 1568,
   "metadata": {},
   "outputs": [
    {
     "name": "stdout",
     "output_type": "stream",
     "text": [
      "Size of image matrix =  13926400\n"
     ]
    }
   ],
   "source": [
    "path = \"./Sample/Train_Partial_Data/\"\n",
    "folders = os.listdir(path)\n",
    "imageList=[]\n",
    "imageMatrix = []\n",
    "newIm = []\n",
    "labels=[]\n",
    "# Get list of folders in current path\n",
    "for folder in folders:\n",
    "    newPath = path + folder  #Create new path by adding folder name\n",
    "    folderName = os.path.split(os.path.abspath(newPath))[1]\n",
    "    characterName = folderName.split(\"_\")[2]\n",
    "    imageList=[f for f in os.listdir(newPath) if os.path.splitext(f)[-1] == '.png'] #Check if PNG files only then add\n",
    "    for image in imageList:   #Traverse the list of files and add each file name to the imageFile\n",
    "        im = Image.open(newPath+\"//\"+image)\n",
    "        labels.append(characterName)\n",
    "        imageArray = np.asarray(im.getdata())\n",
    "        flattenedImageArray = imageArray.flatten()\n",
    "        imageMatrix.append(flattenedImageArray)\n",
    "print(\"Size of image matrix = \",np.size(imageMatrix))"
   ]
  },
  {
   "cell_type": "code",
   "execution_count": 1569,
   "metadata": {},
   "outputs": [
    {
     "name": "stdout",
     "output_type": "stream",
     "text": [
      "(13600, 1024)\n"
     ]
    }
   ],
   "source": [
    "a = np.array(imageMatrix)\n",
    "a\n",
    "print(a.shape)"
   ]
  },
  {
   "cell_type": "code",
   "execution_count": 1570,
   "metadata": {
    "collapsed": true
   },
   "outputs": [],
   "source": [
    "import random\n",
    "from sklearn import ensemble,preprocessing"
   ]
  },
  {
   "cell_type": "markdown",
   "metadata": {},
   "source": [
    "## Separate the features and images"
   ]
  },
  {
   "cell_type": "code",
   "execution_count": 1571,
   "metadata": {},
   "outputs": [
    {
     "name": "stdout",
     "output_type": "stream",
     "text": [
      "Features size =  (13600, 1024)\n",
      "Labels size =  (13600,)\n",
      "['ka' 'ka' 'ka' ..., 'cha' 'cha' 'cha']\n"
     ]
    }
   ],
   "source": [
    "#define variables\n",
    "n_samples = len(a)\n",
    "X = a.reshape((n_samples,-1))\n",
    "T = np.array(labels)\n",
    "print('Features size = ',X.shape)\n",
    "print('Labels size = ',T.shape)\n",
    "print(T)\n"
   ]
  },
  {
   "cell_type": "markdown",
   "metadata": {},
   "source": [
    "## Transform categorical variables using one hot encoding"
   ]
  },
  {
   "cell_type": "code",
   "execution_count": 1572,
   "metadata": {
    "collapsed": true
   },
   "outputs": [],
   "source": [
    "le=preprocessing.LabelEncoder()\n",
    "le.fit(T)\n",
    "T=le.transform(T)\n",
    "\n",
    "T=keras.utils.np_utils.to_categorical(T)"
   ]
  },
  {
   "cell_type": "markdown",
   "metadata": {},
   "source": [
    "## Print the mapping created by one hot encoding"
   ]
  },
  {
   "cell_type": "code",
   "execution_count": 1573,
   "metadata": {},
   "outputs": [
    {
     "name": "stdout",
     "output_type": "stream",
     "text": [
      "{'ba': 0, 'cha': 1, 'ga': 2, 'ha': 3, 'ka': 4, 'kna': 5, 'ma': 6, 'yaw': 7}\n"
     ]
    }
   ],
   "source": [
    "le_name_mapping = dict(zip(le.classes_, le.transform(le.classes_)))\n",
    "print(le_name_mapping)"
   ]
  },
  {
   "cell_type": "markdown",
   "metadata": {},
   "source": [
    "## Split the data in train and test data"
   ]
  },
  {
   "cell_type": "code",
   "execution_count": 1574,
   "metadata": {
    "collapsed": true
   },
   "outputs": [],
   "source": [
    "from sklearn.cross_validation import train_test_split\n",
    "X_train, X_test, T_train, T_test = train_test_split(X, T, test_size=0.3, random_state=34)"
   ]
  },
  {
   "cell_type": "code",
   "execution_count": 1575,
   "metadata": {},
   "outputs": [
    {
     "name": "stdout",
     "output_type": "stream",
     "text": [
      "Train size =  (9520, 1024)   (9520, 8)\n"
     ]
    }
   ],
   "source": [
    "print('Train size = ',X_train.shape,\" \",T_train.shape)"
   ]
  },
  {
   "cell_type": "code",
   "execution_count": 1576,
   "metadata": {
    "collapsed": true
   },
   "outputs": [],
   "source": [
    "import numpy as np\n",
    "import keras\n",
    "from keras import models, layers, losses, optimizers, metrics\n",
    "from keras.utils import to_categorical\n",
    "from sklearn.preprocessing import StandardScaler,LabelEncoder,OneHotEncoder\n",
    "import pandas as pd\n",
    "from sklearn.cross_validation import train_test_split\n",
    "import matplotlib.pyplot as plt\n",
    "%matplotlib inline\n",
    "from keras.layers import Dense, Conv2D, MaxPool2D, Flatten, Dropout\n",
    "from keras.models import Sequential\n"
   ]
  },
  {
   "cell_type": "code",
   "execution_count": 1577,
   "metadata": {
    "collapsed": true
   },
   "outputs": [],
   "source": [
    "img_height_rows = 32\n",
    "img_width_cols = 32"
   ]
  },
  {
   "cell_type": "code",
   "execution_count": 1578,
   "metadata": {},
   "outputs": [
    {
     "name": "stdout",
     "output_type": "stream",
     "text": [
      "(32, 32, 1)\n"
     ]
    }
   ],
   "source": [
    "im_shape = (img_height_rows, img_width_cols, 1)\n",
    "print(im_shape)\n",
    "x_train = X_train.reshape(X_train.shape[0], *im_shape) # Python TIP :the * operator unpacks the tuple\n",
    "x_test = X_test.reshape(X_test.shape[0], *im_shape)"
   ]
  },
  {
   "cell_type": "markdown",
   "metadata": {},
   "source": [
    "## Configure the CNN to extract the features"
   ]
  },
  {
   "cell_type": "code",
   "execution_count": 1579,
   "metadata": {
    "collapsed": true
   },
   "outputs": [],
   "source": [
    "cnn = Sequential()\n",
    "\n",
    "kernelSize = (3, 3)\n",
    "ip_activation = 'relu'\n",
    "ip_conv_0 = Conv2D(filters=4, kernel_size=kernelSize, input_shape=im_shape, activation=ip_activation)\n",
    "cnn.add(ip_conv_0)"
   ]
  },
  {
   "cell_type": "code",
   "execution_count": 1580,
   "metadata": {
    "collapsed": true
   },
   "outputs": [],
   "source": [
    "# Add the next Convolutional+Activation layer\n",
    "ip_conv_0_1 = Conv2D(filters=4, kernel_size=kernelSize, activation=ip_activation)\n",
    "cnn.add(ip_conv_0_1)\n",
    "\n",
    "# Add the Pooling layer\n",
    "pool_0 = MaxPool2D(pool_size=(2, 2), strides=(2, 2), padding=\"same\")\n",
    "cnn.add(pool_0)"
   ]
  },
  {
   "cell_type": "code",
   "execution_count": 1581,
   "metadata": {
    "collapsed": true
   },
   "outputs": [],
   "source": [
    "ip_conv_1 = Conv2D(filters=4, kernel_size=kernelSize, activation=ip_activation)\n",
    "cnn.add(ip_conv_1)\n",
    "ip_conv_1_1 = Conv2D(filters=4, kernel_size=kernelSize, activation=ip_activation)\n",
    "cnn.add(ip_conv_1_1)\n",
    "\n",
    "pool_1 = MaxPool2D(pool_size=(2, 2), strides=(2, 2), padding=\"same\")\n",
    "cnn.add(pool_1)"
   ]
  },
  {
   "cell_type": "code",
   "execution_count": 1582,
   "metadata": {
    "collapsed": true
   },
   "outputs": [],
   "source": [
    "# Let's deactivate around 20% of neurons randomly for training\n",
    "# drop_layer_0 = Dropout(0.2)\n",
    "# cnn.add(drop_layer_0)"
   ]
  },
  {
   "cell_type": "code",
   "execution_count": 1583,
   "metadata": {
    "collapsed": true
   },
   "outputs": [],
   "source": [
    "flat_layer_0 = Flatten()\n",
    "cnn.add(Flatten())"
   ]
  },
  {
   "cell_type": "code",
   "execution_count": 1584,
   "metadata": {
    "collapsed": true
   },
   "outputs": [],
   "source": [
    "# Now add the Dense layers\n",
    "h_dense_0 = Dense(units=20, activation=ip_activation, kernel_initializer='uniform')\n",
    "cnn.add(h_dense_0)\n",
    "# Let's add one more before proceeding to the output layer\n",
    "h_dense_1 = Dense(units=1024, activation=ip_activation, kernel_initializer='uniform',name='dense11')\n",
    "cnn.add(h_dense_1)"
   ]
  },
  {
   "cell_type": "code",
   "execution_count": 1585,
   "metadata": {
    "collapsed": true
   },
   "outputs": [],
   "source": [
    "n_classes = 8\n",
    "op_activation = 'softmax'\n",
    "output_layer = Dense(units=n_classes, activation=op_activation, kernel_initializer='uniform')\n",
    "cnn.add(output_layer)"
   ]
  },
  {
   "cell_type": "code",
   "execution_count": 1586,
   "metadata": {},
   "outputs": [],
   "source": [
    "opt = optimizers.Adagrad(lr=0.001)\n",
    "loss = 'categorical_crossentropy'\n",
    "metrics = ['accuracy']\n",
    "# Compile the classifier using the configuration we want\n",
    "cnn.compile(optimizer=opt, loss=loss, metrics=metrics)"
   ]
  },
  {
   "cell_type": "code",
   "execution_count": 1587,
   "metadata": {
    "scrolled": true
   },
   "outputs": [
    {
     "name": "stdout",
     "output_type": "stream",
     "text": [
      "_________________________________________________________________\n",
      "Layer (type)                 Output Shape              Param #   \n",
      "=================================================================\n",
      "conv2d_124 (Conv2D)          (None, 30, 30, 4)         40        \n",
      "_________________________________________________________________\n",
      "conv2d_125 (Conv2D)          (None, 28, 28, 4)         148       \n",
      "_________________________________________________________________\n",
      "max_pooling2d_62 (MaxPooling (None, 14, 14, 4)         0         \n",
      "_________________________________________________________________\n",
      "conv2d_126 (Conv2D)          (None, 12, 12, 4)         148       \n",
      "_________________________________________________________________\n",
      "conv2d_127 (Conv2D)          (None, 10, 10, 4)         148       \n",
      "_________________________________________________________________\n",
      "max_pooling2d_63 (MaxPooling (None, 5, 5, 4)           0         \n",
      "_________________________________________________________________\n",
      "flatten_62 (Flatten)         (None, 100)               0         \n",
      "_________________________________________________________________\n",
      "dense_61 (Dense)             (None, 20)                2020      \n",
      "_________________________________________________________________\n",
      "dense11 (Dense)              (None, 1024)              21504     \n",
      "_________________________________________________________________\n",
      "dense_62 (Dense)             (None, 8)                 8200      \n",
      "=================================================================\n",
      "Total params: 32,208\n",
      "Trainable params: 32,208\n",
      "Non-trainable params: 0\n",
      "_________________________________________________________________\n",
      "None\n"
     ]
    }
   ],
   "source": [
    "print(cnn.summary())"
   ]
  },
  {
   "cell_type": "code",
   "execution_count": 1588,
   "metadata": {},
   "outputs": [
    {
     "name": "stdout",
     "output_type": "stream",
     "text": [
      "Train on 9520 samples, validate on 4080 samples\n",
      "Epoch 1/30\n",
      "9520/9520 [==============================] - 7s 761us/step - loss: 1.2521 - acc: 0.5787 - val_loss: 0.9390 - val_acc: 0.6794\n",
      "Epoch 2/30\n",
      "9520/9520 [==============================] - 6s 641us/step - loss: 0.8410 - acc: 0.7148 - val_loss: 0.8257 - val_acc: 0.7169\n",
      "Epoch 3/30\n",
      "9520/9520 [==============================] - 6s 621us/step - loss: 0.7498 - acc: 0.7442 - val_loss: 0.7547 - val_acc: 0.7397\n",
      "Epoch 4/30\n",
      "9520/9520 [==============================] - 6s 635us/step - loss: 0.6958 - acc: 0.7650 - val_loss: 0.7000 - val_acc: 0.7630\n",
      "Epoch 5/30\n",
      "9520/9520 [==============================] - 6s 645us/step - loss: 0.6520 - acc: 0.7771 - val_loss: 0.6704 - val_acc: 0.7752\n",
      "Epoch 6/30\n",
      "9520/9520 [==============================] - 6s 633us/step - loss: 0.6167 - acc: 0.7919 - val_loss: 0.6614 - val_acc: 0.7728\n",
      "Epoch 7/30\n",
      "9520/9520 [==============================] - 7s 684us/step - loss: 0.5867 - acc: 0.8009 - val_loss: 0.6143 - val_acc: 0.7917\n",
      "Epoch 8/30\n",
      "9520/9520 [==============================] - 7s 701us/step - loss: 0.5597 - acc: 0.8104 - val_loss: 0.5849 - val_acc: 0.8054\n",
      "Epoch 9/30\n",
      "9520/9520 [==============================] - 6s 659us/step - loss: 0.5364 - acc: 0.8202 - val_loss: 0.5664 - val_acc: 0.8152\n",
      "Epoch 10/30\n",
      "9520/9520 [==============================] - 6s 678us/step - loss: 0.5147 - acc: 0.8273 - val_loss: 0.5456 - val_acc: 0.8225\n",
      "Epoch 11/30\n",
      "9520/9520 [==============================] - 6s 646us/step - loss: 0.4959 - acc: 0.8315 - val_loss: 0.5362 - val_acc: 0.8233\n",
      "Epoch 12/30\n",
      "9520/9520 [==============================] - 6s 633us/step - loss: 0.4784 - acc: 0.8412 - val_loss: 0.5105 - val_acc: 0.8348\n",
      "Epoch 13/30\n",
      "9520/9520 [==============================] - 7s 685us/step - loss: 0.4642 - acc: 0.8431 - val_loss: 0.4919 - val_acc: 0.8385\n",
      "Epoch 14/30\n",
      "9520/9520 [==============================] - 6s 637us/step - loss: 0.4498 - acc: 0.8488 - val_loss: 0.4970 - val_acc: 0.8353\n",
      "Epoch 15/30\n",
      "9520/9520 [==============================] - 6s 650us/step - loss: 0.4388 - acc: 0.8515 - val_loss: 0.4751 - val_acc: 0.8419\n",
      "Epoch 16/30\n",
      "9520/9520 [==============================] - 6s 641us/step - loss: 0.4254 - acc: 0.8598 - val_loss: 0.4632 - val_acc: 0.8456\n",
      "Epoch 17/30\n",
      "9520/9520 [==============================] - 8s 800us/step - loss: 0.4149 - acc: 0.8623 - val_loss: 0.4617 - val_acc: 0.8527\n",
      "Epoch 18/30\n",
      "9520/9520 [==============================] - 8s 877us/step - loss: 0.4037 - acc: 0.8665 - val_loss: 0.4406 - val_acc: 0.8547\n",
      "Epoch 19/30\n",
      "9520/9520 [==============================] - 8s 880us/step - loss: 0.3953 - acc: 0.8682 - val_loss: 0.4454 - val_acc: 0.8542\n",
      "Epoch 20/30\n",
      "9520/9520 [==============================] - 7s 772us/step - loss: 0.3878 - acc: 0.8734 - val_loss: 0.4288 - val_acc: 0.8566\n",
      "Epoch 21/30\n",
      "9520/9520 [==============================] - 7s 719us/step - loss: 0.3805 - acc: 0.8731 - val_loss: 0.4262 - val_acc: 0.8613\n",
      "Epoch 22/30\n",
      "9520/9520 [==============================] - 7s 723us/step - loss: 0.3716 - acc: 0.8782 - val_loss: 0.4126 - val_acc: 0.8613\n",
      "Epoch 23/30\n",
      "9520/9520 [==============================] - 6s 674us/step - loss: 0.3639 - acc: 0.8803 - val_loss: 0.4113 - val_acc: 0.8650\n",
      "Epoch 24/30\n",
      "9520/9520 [==============================] - 6s 666us/step - loss: 0.3588 - acc: 0.8836 - val_loss: 0.4035 - val_acc: 0.8642\n",
      "Epoch 25/30\n",
      "9520/9520 [==============================] - 7s 725us/step - loss: 0.3507 - acc: 0.8876 - val_loss: 0.4147 - val_acc: 0.8598\n",
      "Epoch 26/30\n",
      "9520/9520 [==============================] - 7s 760us/step - loss: 0.3471 - acc: 0.8864 - val_loss: 0.3907 - val_acc: 0.8735\n",
      "Epoch 27/30\n",
      "9520/9520 [==============================] - 22s 2ms/step - loss: 0.3412 - acc: 0.8871 - val_loss: 0.3928 - val_acc: 0.8735\n",
      "Epoch 28/30\n",
      "9520/9520 [==============================] - 12s 1ms/step - loss: 0.3348 - acc: 0.8899 - val_loss: 0.3845 - val_acc: 0.8696\n",
      "Epoch 29/30\n",
      "9520/9520 [==============================] - 10s 1ms/step - loss: 0.3291 - acc: 0.8930 - val_loss: 0.3907 - val_acc: 0.8711\n",
      "Epoch 30/30\n",
      "9520/9520 [==============================] - 8s 808us/step - loss: 0.3259 - acc: 0.8930 - val_loss: 0.3768 - val_acc: 0.8748\n"
     ]
    }
   ],
   "source": [
    "history = cnn.fit(x_train, T_train,\n",
    "                  batch_size=100, epochs=30,\n",
    "                  validation_data=(x_test, T_test))"
   ]
  },
  {
   "cell_type": "code",
   "execution_count": 1589,
   "metadata": {},
   "outputs": [
    {
     "data": {
      "text/plain": [
       "<matplotlib.legend.Legend at 0x154233539b0>"
      ]
     },
     "execution_count": 1589,
     "metadata": {},
     "output_type": "execute_result"
    },
    {
     "data": {
      "image/png": "[encoded data removed]",
      "text/plain": [
       "<matplotlib.figure.Figure at 0x1540ed40518>"
      ]
     },
     "metadata": {},
     "output_type": "display_data"
    }
   ],
   "source": [
    "plt.plot(history.history['acc'])\n",
    "plt.plot(history.history['val_acc'])\n",
    "plt.legend(['Training Accuracy','Validation Accuracy'])"
   ]
  },
  {
   "cell_type": "markdown",
   "metadata": {},
   "source": [
    "### Print the accuracy of the model"
   ]
  },
  {
   "cell_type": "code",
   "execution_count": 1590,
   "metadata": {},
   "outputs": [
    {
     "name": "stdout",
     "output_type": "stream",
     "text": [
      "Accuracy: 87.48%\n"
     ]
    }
   ],
   "source": [
    "scores = cnn.evaluate(x_test, T_test, verbose=0)\n",
    "print(\"Accuracy: %.2f%%\" % (scores[1]*100))"
   ]
  },
  {
   "cell_type": "markdown",
   "metadata": {},
   "source": [
    "### Extract the features from the CNN "
   ]
  },
  {
   "cell_type": "code",
   "execution_count": 1591,
   "metadata": {
    "collapsed": true
   },
   "outputs": [],
   "source": [
    "from keras.models import Model\n",
    "\n",
    "model = cnn\n",
    "layer_name= 'dense11'\n",
    "intermediate_layer_model = Model(inputs=cnn.input,\n",
    "                                 outputs=model.get_layer(layer_name).output)\n",
    "intermediate_output = intermediate_layer_model.predict(x_train)"
   ]
  },
  {
   "cell_type": "markdown",
   "metadata": {},
   "source": [
    "### Pass the features extracted from CNN to classifiers for prediction "
   ]
  },
  {
   "cell_type": "code",
   "execution_count": 1592,
   "metadata": {
    "collapsed": true
   },
   "outputs": [],
   "source": [
    "x_train = intermediate_output"
   ]
  },
  {
   "cell_type": "markdown",
   "metadata": {},
   "source": [
    "### Convert the target labels back to be passed to the classifiers"
   ]
  },
  {
   "cell_type": "code",
   "execution_count": 1593,
   "metadata": {},
   "outputs": [
    {
     "data": {
      "text/plain": [
       "array([3, 1, 5, ..., 5, 7, 5], dtype=int64)"
      ]
     },
     "execution_count": 1593,
     "metadata": {},
     "output_type": "execute_result"
    }
   ],
   "source": [
    "import numpy as np\n",
    "T1 = np.argmax(T_train, axis=1)\n",
    "T1"
   ]
  },
  {
   "cell_type": "markdown",
   "metadata": {},
   "source": [
    "### Split the data into train and test data"
   ]
  },
  {
   "cell_type": "code",
   "execution_count": 1594,
   "metadata": {},
   "outputs": [],
   "source": [
    "from sklearn.cross_validation import train_test_split\n",
    "X_train, X_test, T_train, T_test = train_test_split(x_train, T1, test_size=0.3, random_state=34)"
   ]
  },
  {
   "cell_type": "code",
   "execution_count": 1595,
   "metadata": {
    "collapsed": true
   },
   "outputs": [],
   "source": [
    "from sklearn.metrics import accuracy_score, confusion_matrix"
   ]
  },
  {
   "cell_type": "code",
   "execution_count": 1599,
   "metadata": {},
   "outputs": [],
   "source": [
    "def genericClassifier(clfr, x_train_data, y_train_data, x_test_data, y_test_data, acc_str, matrix_header_str):\n",
    "    \"\"\"run chosen classifier and display results\"\"\"\n",
    "    start_time = time.time()\n",
    "    clfr.fit(x_train_data, y_train_data)\n",
    "    y_pred = clfr.predict(x_test_data)\n",
    "    print(\"Time taken for prediction = %f seconds\" % (time.time() - start_time))\n",
    "    print(acc_str.format(accuracy_score(y_test_data, y_pred) * 100))\n",
    "    acc=accuracy_score(y_test_data, y_pred) * 100\n",
    "    return y_pred,acc\n"
   ]
  },
  {
   "cell_type": "code",
   "execution_count": 1600,
   "metadata": {},
   "outputs": [
    {
     "data": {
      "text/plain": [
       "(9520, 1024)"
      ]
     },
     "execution_count": 1600,
     "metadata": {},
     "output_type": "execute_result"
    }
   ],
   "source": [
    "x_train.shape"
   ]
  },
  {
   "cell_type": "markdown",
   "metadata": {},
   "source": [
    "## Pass the features to Random Forest Classifier for predictions"
   ]
  },
  {
   "cell_type": "code",
   "execution_count": 1601,
   "metadata": {},
   "outputs": [
    {
     "name": "stdout",
     "output_type": "stream",
     "text": [
      "Random Forest Classifier starting ...\n",
      "Time taken for prediction = 1.203011 seconds\n",
      "CNN-Random Forest Accuracy: 86.8%\n"
     ]
    }
   ],
   "source": [
    "from sklearn.ensemble import RandomForestClassifier\n",
    "import time\n",
    "print('Random Forest Classifier starting ...')\n",
    "partialDataRandomForestClassifier = RandomForestClassifier()\n",
    "y_pred,rfacc=genericClassifier(partialDataRandomForestClassifier, X_train, T_train, X_test, T_test, \"CNN-Random Forest Accuracy: {0:0.1f}%\", \"SVM Confusion matrix\")"
   ]
  },
  {
   "cell_type": "markdown",
   "metadata": {},
   "source": [
    "## Pass the features to Multi-Layer Perceptron Classifier for predictions"
   ]
  },
  {
   "cell_type": "code",
   "execution_count": 1602,
   "metadata": {},
   "outputs": [
    {
     "name": "stdout",
     "output_type": "stream",
     "text": [
      "Multi-Layer Perceptron Classifier starting ...\n",
      "Time taken for prediction = 7.513125 seconds\n",
      "CNN-Multi-Layer Perceptron Accuracy: 90.4%\n"
     ]
    }
   ],
   "source": [
    "from sklearn.neural_network import MLPClassifier\n",
    "import time\n",
    "print('Multi-Layer Perceptron Classifier starting ...')\n",
    "partialDataMLPClassifier = MLPClassifier()\n",
    "y_pred,mlpacc=genericClassifier(partialDataMLPClassifier, X_train, T_train, X_test, T_test, \"CNN-Multi-Layer Perceptron Accuracy: {0:0.1f}%\", \"SVM Confusion matrix\")"
   ]
  },
  {
   "cell_type": "markdown",
   "metadata": {},
   "source": [
    "## Pass the features to KNN Classifier for predictions"
   ]
  },
  {
   "cell_type": "code",
   "execution_count": 1603,
   "metadata": {},
   "outputs": [
    {
     "name": "stdout",
     "output_type": "stream",
     "text": [
      "KNN Classifier starting ...\n",
      "Time taken for prediction = 19.928713 seconds\n",
      "CNN-KNN Accuracy: 90.5%\n"
     ]
    }
   ],
   "source": [
    "from sklearn.neighbors import KNeighborsClassifier\n",
    "import time\n",
    "print('KNN Classifier starting ...')\n",
    "partialDataKNNClassifier = KNeighborsClassifier()\n",
    "y_pred,knnacc=genericClassifier(partialDataKNNClassifier, X_train, T_train, X_test, T_test, \"CNN-KNN Accuracy: {0:0.1f}%\", \"SVM Confusion matrix\")"
   ]
  },
  {
   "cell_type": "markdown",
   "metadata": {},
   "source": [
    "## Image 1 Character 1"
   ]
  },
  {
   "cell_type": "markdown",
   "metadata": {},
   "source": [
    "### Read word 1 from image"
   ]
  },
  {
   "cell_type": "code",
   "execution_count": 1604,
   "metadata": {
    "collapsed": true
   },
   "outputs": [],
   "source": [
    "import pytesseract\n",
    "im=Image.open(\"word1.PNG\")\n",
    "pytesseract.pytesseract.tesseract_cmd=\"C:\\\\Program Files\\\\Tesseract-OCR\\\\tesseract.exe\"\n",
    "text=pytesseract.image_to_string(im,lang='hin')"
   ]
  },
  {
   "cell_type": "markdown",
   "metadata": {},
   "source": [
    "### Extract Characters from word1"
   ]
  },
  {
   "cell_type": "code",
   "execution_count": 1605,
   "metadata": {
    "collapsed": true
   },
   "outputs": [],
   "source": [
    "from PIL import Image, ImageFont, ImageDraw\n",
    "import string, random\n",
    "length=len(text)\n",
    "for i in range(0,length):\n",
    "    img=Image.new(\"RGB\", [400, 400])\n",
    "    font = ImageFont.truetype(\"mangal.ttf\", 200)\n",
    "    draw = ImageDraw.Draw(img)\n",
    "    draw.text((125, 30),text[i],(255,255,255),font=font)\n",
    "    draw = ImageDraw.Draw(img)\n",
    "    fileName = \"./testFiles/word1_\"+str(i)+\".png\"\n",
    "    img.save(fileName)"
   ]
  },
  {
   "cell_type": "code",
   "execution_count": 1606,
   "metadata": {},
   "outputs": [
    {
     "data": {
      "text/plain": [
       "(1, 1024)"
      ]
     },
     "execution_count": 1606,
     "metadata": {},
     "output_type": "execute_result"
    },
    {
     "data": {
      "image/png": "[encoded data removed]",
      "text/plain": [
       "<matplotlib.figure.Figure at 0x15422d6bcf8>"
      ]
     },
     "metadata": {},
     "output_type": "display_data"
    }
   ],
   "source": [
    "img=Image.open('./testFiles/word1_0.png')\n",
    "img=img.convert('L')\n",
    "img=img.resize((32,32))\n",
    "imgData = np.array(img)\n",
    "plt.title(\"Label: ka\")\n",
    "plt.imshow(imgData)\n",
    "# inverted_image.save('new1.jpg')\n",
    "img.size\n",
    "# np.set_printoptions(threshold=100)\n",
    "flat=imgData.flatten()\n",
    "np.shape(flat)\n",
    "flat=flat.reshape(1,-1)\n",
    "flat.shape"
   ]
  },
  {
   "cell_type": "code",
   "execution_count": 991,
   "metadata": {},
   "outputs": [
    {
     "data": {
      "text/plain": [
       "'ba'"
      ]
     },
     "execution_count": 991,
     "metadata": {},
     "output_type": "execute_result"
    }
   ],
   "source": [
    "y_pred=partialDataRandomForestClassifier.predict(flat)\n",
    "le.inverse_transform(y_pred[0])"
   ]
  },
  {
   "cell_type": "code",
   "execution_count": 992,
   "metadata": {},
   "outputs": [
    {
     "data": {
      "text/plain": [
       "'ka'"
      ]
     },
     "execution_count": 992,
     "metadata": {},
     "output_type": "execute_result"
    }
   ],
   "source": [
    "y_pred=partialDataMLPClassifier.predict(flat)\n",
    "le.inverse_transform(y_pred[0])"
   ]
  },
  {
   "cell_type": "code",
   "execution_count": 993,
   "metadata": {},
   "outputs": [
    {
     "data": {
      "text/plain": [
       "'yaw'"
      ]
     },
     "execution_count": 993,
     "metadata": {},
     "output_type": "execute_result"
    }
   ],
   "source": [
    "y_pred=partialDataKNNClassifier.predict(flat)\n",
    "le.inverse_transform(y_pred[0])"
   ]
  },
  {
   "cell_type": "markdown",
   "metadata": {},
   "source": [
    "<font color=\"blue\">It is observed that the actual letter 'ka' is predicted as similar looking characters by some classifiers due to similarity in shapes.</font>"
   ]
  },
  {
   "cell_type": "code",
   "execution_count": 1121,
   "metadata": {},
   "outputs": [
    {
     "name": "stdout",
     "output_type": "stream",
     "text": [
      "Correct character ka =  क\n",
      "Characters similar to this: च (cha),  ब (ba)\n"
     ]
    }
   ],
   "source": [
    "print(\"Correct character ka = \",\"\\u0915\")\n",
    "print(\"Characters similar to this:\",\"\\u091A\",\"(cha), \"\" \\u092C\",\"(ba)\")"
   ]
  },
  {
   "cell_type": "markdown",
   "metadata": {},
   "source": [
    "## Image 1 Character 2"
   ]
  },
  {
   "cell_type": "code",
   "execution_count": 1607,
   "metadata": {},
   "outputs": [
    {
     "data": {
      "text/plain": [
       "(1, 1024)"
      ]
     },
     "execution_count": 1607,
     "metadata": {},
     "output_type": "execute_result"
    },
    {
     "data": {
      "image/png": "[encoded data removed]",
      "text/plain": [
       "<matplotlib.figure.Figure at 0x15417252e48>"
      ]
     },
     "metadata": {},
     "output_type": "display_data"
    }
   ],
   "source": [
    "img=Image.open('./testFiles/word1_1.png')\n",
    "img=img.convert('L')\n",
    "img=img.resize((32,32))\n",
    "imgData = np.array(img)\n",
    "plt.title(\"Label: ma\")\n",
    "plt.imshow(imgData)\n",
    "# inverted_image.save('new1.jpg')\n",
    "img.size\n",
    "# np.set_printoptions(threshold=100)\n",
    "flat=imgData.flatten()\n",
    "np.shape(flat)\n",
    "flat=flat.reshape(1,-1)\n",
    "flat.shape"
   ]
  },
  {
   "cell_type": "code",
   "execution_count": 921,
   "metadata": {},
   "outputs": [
    {
     "data": {
      "text/plain": [
       "'ma'"
      ]
     },
     "execution_count": 921,
     "metadata": {},
     "output_type": "execute_result"
    }
   ],
   "source": [
    "y_pred=partialDataRandomForestClassifier.predict(flat)\n",
    "le.inverse_transform(y_pred[0])"
   ]
  },
  {
   "cell_type": "code",
   "execution_count": 922,
   "metadata": {},
   "outputs": [
    {
     "data": {
      "text/plain": [
       "'ga'"
      ]
     },
     "execution_count": 922,
     "metadata": {},
     "output_type": "execute_result"
    }
   ],
   "source": [
    "y_pred=partialDataMLPClassifier.predict(flat)\n",
    "le.inverse_transform(y_pred[0])"
   ]
  },
  {
   "cell_type": "code",
   "execution_count": 923,
   "metadata": {},
   "outputs": [
    {
     "data": {
      "text/plain": [
       "'ba'"
      ]
     },
     "execution_count": 923,
     "metadata": {},
     "output_type": "execute_result"
    }
   ],
   "source": [
    "y_pred=partialDataKNNClassifier.predict(flat)\n",
    "le.inverse_transform(y_pred[0])"
   ]
  },
  {
   "cell_type": "markdown",
   "metadata": {},
   "source": [
    "Character from image = "
   ]
  },
  {
   "cell_type": "code",
   "execution_count": 1608,
   "metadata": {},
   "outputs": [
    {
     "name": "stdout",
     "output_type": "stream",
     "text": [
      "Correct character ma =  म\n",
      "Characters similar to this: ग (ga)\n"
     ]
    }
   ],
   "source": [
    "print(\"Correct character ma = \",\"\\u092E\")\n",
    "print(\"Characters similar to this:\",\"\\u0917\", \"(ga)\")"
   ]
  },
  {
   "cell_type": "markdown",
   "metadata": {},
   "source": [
    "## Image 2 Character 1"
   ]
  },
  {
   "cell_type": "code",
   "execution_count": 1609,
   "metadata": {
    "collapsed": true
   },
   "outputs": [],
   "source": [
    "import pytesseract\n",
    "im=Image.open(\"word2.JPG\")\n",
    "pytesseract.pytesseract.tesseract_cmd=\"C:\\\\Program Files\\\\Tesseract-OCR\\\\tesseract.exe\"\n",
    "text=pytesseract.image_to_string(im,lang='hin')\n",
    "\n",
    "text0=text[0]\n",
    "text1=text[1]\n"
   ]
  },
  {
   "cell_type": "code",
   "execution_count": 1610,
   "metadata": {
    "collapsed": true
   },
   "outputs": [],
   "source": [
    "from PIL import Image, ImageFont, ImageDraw\n",
    "import string, random\n",
    "length=len(text)\n",
    "for i in range(0,length):\n",
    "    img=Image.new(\"RGB\", [400, 400])\n",
    "    font = ImageFont.truetype(\"mangal.ttf\", 200)\n",
    "    draw = ImageDraw.Draw(img)\n",
    "    draw.text((125, 30),text[i],(255,255,255),font=font)\n",
    "    draw = ImageDraw.Draw(img)\n",
    "    fileName = \"./testFiles/testFile0_\"+str(i)+\".png\"\n",
    "    img.save(fileName)"
   ]
  },
  {
   "cell_type": "code",
   "execution_count": 1611,
   "metadata": {},
   "outputs": [
    {
     "data": {
      "text/plain": [
       "(1, 1024)"
      ]
     },
     "execution_count": 1611,
     "metadata": {},
     "output_type": "execute_result"
    },
    {
     "data": {
      "image/png": "[encoded data removed]",
      "text/plain": [
       "<matplotlib.figure.Figure at 0x15422d6ecf8>"
      ]
     },
     "metadata": {},
     "output_type": "display_data"
    }
   ],
   "source": [
    "img=Image.open('./testFiles/word2_0.png')\n",
    "img=img.convert('L')\n",
    "img=img.resize((32,32))\n",
    "imgData = np.array(img)\n",
    "plt.title(\"Label: yaw\")\n",
    "plt.imshow(imgData)\n",
    "# inverted_image.save('new1.jpg')\n",
    "img.size\n",
    "flat=imgData.flatten()\n",
    "np.shape(flat)\n",
    "flat=flat.reshape(1,-1)\n",
    "flat.shape"
   ]
  },
  {
   "cell_type": "code",
   "execution_count": 1612,
   "metadata": {},
   "outputs": [
    {
     "data": {
      "text/plain": [
       "'ga'"
      ]
     },
     "execution_count": 1612,
     "metadata": {},
     "output_type": "execute_result"
    }
   ],
   "source": [
    "y_pred=partialDataRandomForestClassifier.predict(flat)\n",
    "le.inverse_transform(y_pred[0])"
   ]
  },
  {
   "cell_type": "code",
   "execution_count": 1613,
   "metadata": {},
   "outputs": [
    {
     "data": {
      "text/plain": [
       "'ha'"
      ]
     },
     "execution_count": 1613,
     "metadata": {},
     "output_type": "execute_result"
    }
   ],
   "source": [
    "y_pred=partialDataMLPClassifier.predict(flat)\n",
    "le.inverse_transform(y_pred[0])"
   ]
  },
  {
   "cell_type": "code",
   "execution_count": 1614,
   "metadata": {},
   "outputs": [
    {
     "data": {
      "text/plain": [
       "'ka'"
      ]
     },
     "execution_count": 1614,
     "metadata": {},
     "output_type": "execute_result"
    }
   ],
   "source": [
    "y_pred=partialDataKNNClassifier.predict(flat)\n",
    "le.inverse_transform(y_pred[0])"
   ]
  },
  {
   "cell_type": "code",
   "execution_count": 1616,
   "metadata": {},
   "outputs": [
    {
     "name": "stdout",
     "output_type": "stream",
     "text": [
      "Correct character yaw =  य\n",
      "Characters similar to this: ख (kha)\n"
     ]
    }
   ],
   "source": [
    "print(\"Correct character yaw = \",\"\\u092F\")\n",
    "print(\"Characters similar to this:\",\"\\u0916\",\"(kha)\")"
   ]
  },
  {
   "cell_type": "markdown",
   "metadata": {},
   "source": [
    "## Image 2 Character 2 "
   ]
  },
  {
   "cell_type": "code",
   "execution_count": 1617,
   "metadata": {},
   "outputs": [
    {
     "data": {
      "text/plain": [
       "(1, 1024)"
      ]
     },
     "execution_count": 1617,
     "metadata": {},
     "output_type": "execute_result"
    },
    {
     "data": {
      "image/png": "[encoded data removed]",
      "text/plain": [
       "<matplotlib.figure.Figure at 0x1540cac3390>"
      ]
     },
     "metadata": {},
     "output_type": "display_data"
    }
   ],
   "source": [
    "img=Image.open('./testFiles/word2_1.png')\n",
    "img=img.convert('L')\n",
    "img=img.resize((32,32))\n",
    "imgData = np.array(img)\n",
    "plt.title(\"Label: ha\")\n",
    "plt.imshow(imgData)\n",
    "# inverted_image.save('new1.jpg')\n",
    "img.size\n",
    "flat=imgData.flatten()\n",
    "np.shape(flat)\n",
    "flat=flat.reshape(1,-1)\n",
    "flat.shape"
   ]
  },
  {
   "cell_type": "code",
   "execution_count": 1618,
   "metadata": {},
   "outputs": [
    {
     "data": {
      "text/plain": [
       "'ba'"
      ]
     },
     "execution_count": 1618,
     "metadata": {},
     "output_type": "execute_result"
    }
   ],
   "source": [
    "y_pred=clf1.predict(flat)\n",
    "le.inverse_transform(y_pred[0])"
   ]
  },
  {
   "cell_type": "code",
   "execution_count": 1619,
   "metadata": {},
   "outputs": [
    {
     "data": {
      "text/plain": [
       "'yaw'"
      ]
     },
     "execution_count": 1619,
     "metadata": {},
     "output_type": "execute_result"
    }
   ],
   "source": [
    "y_pred=clf2.predict(flat)\n",
    "le.inverse_transform(y_pred[0])"
   ]
  },
  {
   "cell_type": "code",
   "execution_count": 1620,
   "metadata": {},
   "outputs": [
    {
     "data": {
      "text/plain": [
       "'cha'"
      ]
     },
     "execution_count": 1620,
     "metadata": {},
     "output_type": "execute_result"
    }
   ],
   "source": [
    "y_pred=clf3.predict(flat)\n",
    "le.inverse_transform(y_pred[0])"
   ]
  },
  {
   "cell_type": "code",
   "execution_count": 1621,
   "metadata": {},
   "outputs": [
    {
     "name": "stdout",
     "output_type": "stream",
     "text": [
      "Correct character ha =  ह\n",
      "Characters similar to this: ङ (kna), ड (da)\n"
     ]
    }
   ],
   "source": [
    "print(\"Correct character ha = \",\"\\u0939\")\n",
    "print(\"Characters similar to this:\",\"\\u0919\",\"(kna),\" \" \\u0921\",\"(da)\")"
   ]
  },
  {
   "cell_type": "markdown",
   "metadata": {},
   "source": [
    " "
   ]
  },
  {
   "cell_type": "markdown",
   "metadata": {},
   "source": [
    "## Results discussion\n",
    "\n",
    "Following were the key points noted during the prediction of printed characters by models trained on handwritten chracter images:\n",
    "\n",
    "* It was observed that mostly the classifers accuracy depended on the data that they were trained on.\n",
    "* A large number of label classes caused a decreased performance of the models due to large number of similar looking characters.\n",
    "* Restricting the training of the models to a limited number of characters improved the performance.\n",
    "* The features extracted from the CNN and used by classifiers to predict the printed characters affected the prediction accuracy of classifiers.\n",
    "* It was observed that __KNN Classifier__ generally showed better accuracy as compared to __Random Forest and MLP Classifiers__.\n",
    "* Certain misclassifcations were observed among similar looking characters, like 'ka' being classified as 'ba' or 'ma' being classified as 'ga' due to simliarity in structures of characters.\n",
    "* This can be improved by training the CNN model on large amount of data and then extracting the features so that the classifiers accuracy can be improved.\n",
    "* Cross-validation can be also implemented to if sufficiently large data is available.\n"
   ]
  },
  {
   "cell_type": "markdown",
   "metadata": {},
   "source": [
    " "
   ]
  },
  {
   "cell_type": "markdown",
   "metadata": {},
   "source": [
    " "
   ]
  },
  {
   "cell_type": "markdown",
   "metadata": {},
   "source": [
    " "
   ]
  },
  {
   "cell_type": "markdown",
   "metadata": {},
   "source": [
    " "
   ]
  },
  {
   "cell_type": "markdown",
   "metadata": {},
   "source": [
    " "
   ]
  },
  {
   "cell_type": "markdown",
   "metadata": {},
   "source": [
    " "
   ]
  },
  {
   "cell_type": "markdown",
   "metadata": {},
   "source": [
    " "
   ]
  },
  {
   "cell_type": "markdown",
   "metadata": {},
   "source": [
    "# <font color=\"blue\">Cropped images training and prediction</font>"
   ]
  },
  {
   "cell_type": "markdown",
   "metadata": {},
   "source": [
    "## Use model trained on cropped images to predict full images\n",
    "\n",
    "* As a part of experimentation we took a small amount of images of few characters and clipped those images randomly.\n",
    "* Then we trained the model in a similar fashion as above to by providing it with the cropped images as input and their corresponding labels as output.\n",
    "* This was performed to check how well the model predicts the full image on providing just a part of it while training.\n",
    "* We did not come across any concept of training the model on a partial image but thought it to be relevant if in real life we just had a portion on characters in images for training."
   ]
  },
  {
   "cell_type": "markdown",
   "metadata": {},
   "source": [
    "## Load the images for training"
   ]
  },
  {
   "cell_type": "code",
   "execution_count": 1622,
   "metadata": {},
   "outputs": [
    {
     "data": {
      "text/plain": [
       "40960"
      ]
     },
     "execution_count": 1622,
     "metadata": {},
     "output_type": "execute_result"
    }
   ],
   "source": [
    "path = \"./Sample/Cropped_Images_For_Training/\"\n",
    "folders = os.listdir(path)\n",
    "imageList=[]\n",
    "imageMatrix = []\n",
    "newIm = []\n",
    "labels=[]\n",
    "# Get list of folders in current path\n",
    "for folder in folders:\n",
    "    newPath = path + folder  #Create new path by adding folder name\n",
    "    folderName = os.path.split(os.path.abspath(newPath))[1]\n",
    "    characterName = folderName.split(\"_\")[2]\n",
    "    imageList=[f for f in os.listdir(newPath) if os.path.splitext(f)[-1] == '.jpg'] #Check if PNG files only then add\n",
    "    for image in imageList:   #Traverse the list of files and add each file name to the imageFile\n",
    "        im = Image.open(newPath+\"//\"+image)\n",
    "        labels.append(characterName)\n",
    "        imageArray = np.asarray(im.getdata())\n",
    "        flattenedImageArray = imageArray.flatten()\n",
    "        imageMatrix.append(flattenedImageArray)\n",
    "np.size(imageMatrix)"
   ]
  },
  {
   "cell_type": "code",
   "execution_count": 1623,
   "metadata": {},
   "outputs": [
    {
     "name": "stdout",
     "output_type": "stream",
     "text": [
      "(40, 1024)\n"
     ]
    }
   ],
   "source": [
    "a = np.array(imageMatrix)\n",
    "a\n",
    "print(a.shape)"
   ]
  },
  {
   "cell_type": "code",
   "execution_count": 1624,
   "metadata": {
    "collapsed": true
   },
   "outputs": [],
   "source": [
    "import random\n",
    "from sklearn import ensemble,preprocessing"
   ]
  },
  {
   "cell_type": "markdown",
   "metadata": {},
   "source": [
    "## Separate the features and labels of each image"
   ]
  },
  {
   "cell_type": "code",
   "execution_count": 1625,
   "metadata": {},
   "outputs": [
    {
     "name": "stdout",
     "output_type": "stream",
     "text": [
      "Features size =  (40, 1024)\n",
      "Labels size =  (40,)\n",
      "['ka' 'ka' 'ka' 'ka' 'ka' 'ka' 'ka' 'ka' 'ka' 'ka' 'kha' 'kha' 'kha' 'kha'\n",
      " 'kha' 'kha' 'kha' 'kha' 'kha' 'kha' 'kna' 'kna' 'kna' 'kna' 'kna' 'kna'\n",
      " 'kna' 'kna' 'kna' 'kna' 'ba' 'ba' 'ba' 'ba' 'ba' 'ba' 'ba' 'ba' 'ba' 'ba']\n"
     ]
    }
   ],
   "source": [
    "#define variables\n",
    "n_samples = len(a)\n",
    "X = a.reshape((n_samples,-1))\n",
    "T = np.array(labels)\n",
    "print('Features size = ',X.shape)\n",
    "print('Labels size = ',T.shape)\n",
    "print(T)\n"
   ]
  },
  {
   "cell_type": "markdown",
   "metadata": {},
   "source": [
    "## Transform the categorical targets using one hot encoding "
   ]
  },
  {
   "cell_type": "code",
   "execution_count": 1626,
   "metadata": {
    "collapsed": true
   },
   "outputs": [],
   "source": [
    "le=preprocessing.LabelEncoder()\n",
    "le.fit(T)\n",
    "T=le.transform(T)\n",
    "\n",
    "T=keras.utils.np_utils.to_categorical(T)"
   ]
  },
  {
   "cell_type": "markdown",
   "metadata": {},
   "source": [
    "## Print the mapping of one hot encoding "
   ]
  },
  {
   "cell_type": "code",
   "execution_count": 1627,
   "metadata": {},
   "outputs": [
    {
     "name": "stdout",
     "output_type": "stream",
     "text": [
      "{'ba': 0, 'ka': 1, 'kha': 2, 'kna': 3}\n"
     ]
    }
   ],
   "source": [
    "le_name_mapping = dict(zip(le.classes_, le.transform(le.classes_)))\n",
    "print(le_name_mapping)"
   ]
  },
  {
   "cell_type": "markdown",
   "metadata": {},
   "source": [
    "## Split the train and test data"
   ]
  },
  {
   "cell_type": "code",
   "execution_count": 1628,
   "metadata": {
    "collapsed": true
   },
   "outputs": [],
   "source": [
    "from sklearn.cross_validation import train_test_split\n",
    "X_train, X_test, T_train, T_test = train_test_split(X, T, test_size=0.3, random_state=34)"
   ]
  },
  {
   "cell_type": "code",
   "execution_count": 1629,
   "metadata": {},
   "outputs": [
    {
     "name": "stdout",
     "output_type": "stream",
     "text": [
      "Train size =  (28, 1024)   (28, 4)\n"
     ]
    }
   ],
   "source": [
    "print('Train size = ',X_train.shape,\" \",T_train.shape)"
   ]
  },
  {
   "cell_type": "code",
   "execution_count": 1630,
   "metadata": {
    "collapsed": true
   },
   "outputs": [],
   "source": [
    "import numpy as np\n",
    "import keras\n",
    "from keras import models, layers, losses, optimizers, metrics\n",
    "from keras.utils import to_categorical\n",
    "from sklearn.preprocessing import StandardScaler,LabelEncoder,OneHotEncoder\n",
    "import pandas as pd\n",
    "from sklearn.cross_validation import train_test_split\n",
    "import matplotlib.pyplot as plt\n",
    "%matplotlib inline\n",
    "from keras.layers import Dense, Conv2D, MaxPool2D, Flatten, Dropout\n",
    "from keras.models import Sequential\n"
   ]
  },
  {
   "cell_type": "code",
   "execution_count": 1631,
   "metadata": {
    "collapsed": true
   },
   "outputs": [],
   "source": [
    "img_height_rows = 32\n",
    "img_width_cols = 32"
   ]
  },
  {
   "cell_type": "code",
   "execution_count": 1632,
   "metadata": {},
   "outputs": [
    {
     "name": "stdout",
     "output_type": "stream",
     "text": [
      "(32, 32, 1)\n"
     ]
    }
   ],
   "source": [
    "im_shape = (img_height_rows, img_width_cols, 1)\n",
    "print(im_shape)\n",
    "x_train = X_train.reshape(X_train.shape[0], *im_shape) # Python TIP :the * operator unpacks the tuple\n",
    "x_test = X_test.reshape(X_test.shape[0], *im_shape)"
   ]
  },
  {
   "cell_type": "markdown",
   "metadata": {},
   "source": [
    "## Configure CNN "
   ]
  },
  {
   "cell_type": "code",
   "execution_count": 1633,
   "metadata": {
    "collapsed": true
   },
   "outputs": [],
   "source": [
    "cnn = Sequential()\n",
    "\n",
    "kernelSize = (3, 3)\n",
    "ip_activation = 'relu'\n",
    "ip_conv_0 = Conv2D(filters=4, kernel_size=kernelSize, input_shape=im_shape, activation=ip_activation)\n",
    "cnn.add(ip_conv_0)"
   ]
  },
  {
   "cell_type": "code",
   "execution_count": 1634,
   "metadata": {
    "collapsed": true
   },
   "outputs": [],
   "source": [
    "# Add the next Convolutional+Activation layer\n",
    "ip_conv_0_1 = Conv2D(filters=4, kernel_size=kernelSize, activation=ip_activation)\n",
    "cnn.add(ip_conv_0_1)\n",
    "\n",
    "# Add the Pooling layer\n",
    "pool_0 = MaxPool2D(pool_size=(2, 2), strides=(2, 2), padding=\"same\")\n",
    "cnn.add(pool_0)"
   ]
  },
  {
   "cell_type": "code",
   "execution_count": 1635,
   "metadata": {
    "collapsed": true
   },
   "outputs": [],
   "source": [
    "ip_conv_1 = Conv2D(filters=4, kernel_size=kernelSize, activation=ip_activation)\n",
    "cnn.add(ip_conv_1)\n",
    "ip_conv_1_1 = Conv2D(filters=4, kernel_size=kernelSize, activation=ip_activation)\n",
    "cnn.add(ip_conv_1_1)\n",
    "\n",
    "pool_1 = MaxPool2D(pool_size=(2, 2), strides=(2, 2), padding=\"same\")\n",
    "cnn.add(pool_1)"
   ]
  },
  {
   "cell_type": "code",
   "execution_count": 1636,
   "metadata": {
    "collapsed": true
   },
   "outputs": [],
   "source": [
    "# Let's deactivate around 20% of neurons randomly for training\n",
    "# drop_layer_0 = Dropout(0.2)\n",
    "# cnn.add(drop_layer_0)"
   ]
  },
  {
   "cell_type": "code",
   "execution_count": 1637,
   "metadata": {
    "collapsed": true
   },
   "outputs": [],
   "source": [
    "flat_layer_0 = Flatten()\n",
    "cnn.add(Flatten())"
   ]
  },
  {
   "cell_type": "code",
   "execution_count": 1638,
   "metadata": {
    "collapsed": true
   },
   "outputs": [],
   "source": [
    "# Now add the Dense layers\n",
    "h_dense_0 = Dense(units=20, activation=ip_activation, kernel_initializer='uniform')\n",
    "cnn.add(h_dense_0)\n",
    "# Let's add one more before proceeding to the output layer\n",
    "h_dense_1 = Dense(units=1024, activation=ip_activation, kernel_initializer='uniform',name='dense11')\n",
    "cnn.add(h_dense_1)"
   ]
  },
  {
   "cell_type": "code",
   "execution_count": 1639,
   "metadata": {
    "collapsed": true
   },
   "outputs": [],
   "source": [
    "n_classes = 4\n",
    "op_activation = 'softmax'\n",
    "output_layer = Dense(units=n_classes, activation=op_activation, kernel_initializer='uniform')\n",
    "cnn.add(output_layer)"
   ]
  },
  {
   "cell_type": "code",
   "execution_count": 1640,
   "metadata": {
    "collapsed": true
   },
   "outputs": [],
   "source": [
    "opt = optimizers.Adagrad(lr=0.001)\n",
    "loss = 'categorical_crossentropy'\n",
    "metrics = ['accuracy']\n",
    "# Compile the classifier using the configuration we want\n",
    "cnn.compile(optimizer=opt, loss=loss, metrics=metrics)"
   ]
  },
  {
   "cell_type": "code",
   "execution_count": 1641,
   "metadata": {
    "scrolled": true
   },
   "outputs": [
    {
     "name": "stdout",
     "output_type": "stream",
     "text": [
      "_________________________________________________________________\n",
      "Layer (type)                 Output Shape              Param #   \n",
      "=================================================================\n",
      "conv2d_128 (Conv2D)          (None, 30, 30, 4)         40        \n",
      "_________________________________________________________________\n",
      "conv2d_129 (Conv2D)          (None, 28, 28, 4)         148       \n",
      "_________________________________________________________________\n",
      "max_pooling2d_64 (MaxPooling (None, 14, 14, 4)         0         \n",
      "_________________________________________________________________\n",
      "conv2d_130 (Conv2D)          (None, 12, 12, 4)         148       \n",
      "_________________________________________________________________\n",
      "conv2d_131 (Conv2D)          (None, 10, 10, 4)         148       \n",
      "_________________________________________________________________\n",
      "max_pooling2d_65 (MaxPooling (None, 5, 5, 4)           0         \n",
      "_________________________________________________________________\n",
      "flatten_64 (Flatten)         (None, 100)               0         \n",
      "_________________________________________________________________\n",
      "dense_63 (Dense)             (None, 20)                2020      \n",
      "_________________________________________________________________\n",
      "dense11 (Dense)              (None, 1024)              21504     \n",
      "_________________________________________________________________\n",
      "dense_64 (Dense)             (None, 4)                 4100      \n",
      "=================================================================\n",
      "Total params: 28,108\n",
      "Trainable params: 28,108\n",
      "Non-trainable params: 0\n",
      "_________________________________________________________________\n",
      "None\n"
     ]
    }
   ],
   "source": [
    "print(cnn.summary())"
   ]
  },
  {
   "cell_type": "code",
   "execution_count": 1642,
   "metadata": {},
   "outputs": [
    {
     "name": "stdout",
     "output_type": "stream",
     "text": [
      "Train on 28 samples, validate on 12 samples\n",
      "Epoch 1/10\n",
      "28/28 [==============================] - 1s 33ms/step - loss: 1.8317 - acc: 0.2857 - val_loss: 1.8038 - val_acc: 0.2500\n",
      "Epoch 2/10\n",
      "28/28 [==============================] - 0s 1ms/step - loss: 1.6124 - acc: 0.2500 - val_loss: 1.3362 - val_acc: 0.3333\n",
      "Epoch 3/10\n",
      "28/28 [==============================] - 0s 1ms/step - loss: 1.2099 - acc: 0.5000 - val_loss: 1.5166 - val_acc: 0.3333\n",
      "Epoch 4/10\n",
      "28/28 [==============================] - 0s 2ms/step - loss: 1.0810 - acc: 0.5714 - val_loss: 1.4043 - val_acc: 0.4167\n",
      "Epoch 5/10\n",
      "28/28 [==============================] - 0s 1ms/step - loss: 0.9723 - acc: 0.7143 - val_loss: 1.3971 - val_acc: 0.3333\n",
      "Epoch 6/10\n",
      "28/28 [==============================] - 0s 1ms/step - loss: 0.8706 - acc: 0.7143 - val_loss: 1.3463 - val_acc: 0.4167\n",
      "Epoch 7/10\n",
      "28/28 [==============================] - 0s 2ms/step - loss: 0.7833 - acc: 0.8214 - val_loss: 1.3659 - val_acc: 0.4167\n",
      "Epoch 8/10\n",
      "28/28 [==============================] - 0s 1ms/step - loss: 0.7042 - acc: 0.8929 - val_loss: 1.3222 - val_acc: 0.5000\n",
      "Epoch 9/10\n",
      "28/28 [==============================] - 0s 2ms/step - loss: 0.6248 - acc: 0.8929 - val_loss: 1.3771 - val_acc: 0.3333\n",
      "Epoch 10/10\n",
      "28/28 [==============================] - 0s 1ms/step - loss: 0.5522 - acc: 0.8929 - val_loss: 1.3188 - val_acc: 0.4167\n"
     ]
    }
   ],
   "source": [
    "history = cnn.fit(x_train, T_train,\n",
    "                  batch_size=100, epochs=10,\n",
    "                  validation_data=(x_test, T_test))"
   ]
  },
  {
   "cell_type": "code",
   "execution_count": 1644,
   "metadata": {},
   "outputs": [
    {
     "data": {
      "text/plain": [
       "<matplotlib.legend.Legend at 0x154090e1710>"
      ]
     },
     "execution_count": 1644,
     "metadata": {},
     "output_type": "execute_result"
    },
    {
     "data": {
      "image/png": "[encoded data removed]",
      "text/plain": [
       "<matplotlib.figure.Figure at 0x1540b4a4b38>"
      ]
     },
     "metadata": {},
     "output_type": "display_data"
    }
   ],
   "source": [
    "plt.plot(history.history['acc'])\n",
    "plt.plot(history.history['val_acc'])\n",
    "plt.legend(['Training Accuracy','Validation Accuracy'])"
   ]
  },
  {
   "cell_type": "markdown",
   "metadata": {},
   "source": [
    "## Evaluate the accuracy of model"
   ]
  },
  {
   "cell_type": "code",
   "execution_count": 1645,
   "metadata": {},
   "outputs": [
    {
     "name": "stdout",
     "output_type": "stream",
     "text": [
      "Accuracy: 41.67%\n"
     ]
    }
   ],
   "source": [
    "scores = cnn.evaluate(x_test, T_test, verbose=0)\n",
    "print(\"Accuracy: %.2f%%\" % (scores[1]*100))"
   ]
  },
  {
   "cell_type": "markdown",
   "metadata": {},
   "source": [
    "## Extract the features "
   ]
  },
  {
   "cell_type": "code",
   "execution_count": 1646,
   "metadata": {
    "collapsed": true
   },
   "outputs": [],
   "source": [
    "from keras.models import Model\n",
    "\n",
    "model = cnn\n",
    "layer_name= 'dense11'\n",
    "intermediate_layer_model = Model(inputs=cnn.input,\n",
    "                                 outputs=model.get_layer(layer_name).output)\n",
    "intermediate_output = intermediate_layer_model.predict(x_train)"
   ]
  },
  {
   "cell_type": "markdown",
   "metadata": {},
   "source": [
    "## Pass these features to the classifiers"
   ]
  },
  {
   "cell_type": "code",
   "execution_count": 1647,
   "metadata": {
    "collapsed": true
   },
   "outputs": [],
   "source": [
    "x_train = intermediate_output"
   ]
  },
  {
   "cell_type": "markdown",
   "metadata": {},
   "source": [
    "## Convert target label to original labels"
   ]
  },
  {
   "cell_type": "code",
   "execution_count": 1648,
   "metadata": {},
   "outputs": [
    {
     "data": {
      "text/plain": [
       "array([2, 0, 2, 2, 2, 0, 1, 2, 3, 3, 1, 0, 3, 3, 0, 1, 3, 3, 0, 2, 3, 2, 2,\n",
       "       1, 0, 1, 3, 0], dtype=int64)"
      ]
     },
     "execution_count": 1648,
     "metadata": {},
     "output_type": "execute_result"
    }
   ],
   "source": [
    "import numpy as np\n",
    "T1 = np.argmax(T_train, axis=1)\n",
    "T1"
   ]
  },
  {
   "cell_type": "markdown",
   "metadata": {},
   "source": [
    "# Split the data into train and test data"
   ]
  },
  {
   "cell_type": "code",
   "execution_count": 1649,
   "metadata": {
    "collapsed": true
   },
   "outputs": [],
   "source": [
    "from sklearn.cross_validation import train_test_split\n",
    "X_train, X_test, T_train, T_test = train_test_split(x_train, T1, test_size=0.3, random_state=34)"
   ]
  },
  {
   "cell_type": "code",
   "execution_count": 1650,
   "metadata": {
    "collapsed": true
   },
   "outputs": [],
   "source": [
    "from sklearn.metrics import accuracy_score, confusion_matrix"
   ]
  },
  {
   "cell_type": "markdown",
   "metadata": {},
   "source": [
    "## A generic function to run different classifiers and evaluate their performance"
   ]
  },
  {
   "cell_type": "code",
   "execution_count": 1652,
   "metadata": {
    "collapsed": true
   },
   "outputs": [],
   "source": [
    "def genericClassifier(clfr, x_train_data, y_train_data, x_test_data, y_test_data, acc_str, matrix_header_str):\n",
    "    \"\"\"run chosen classifier and display results\"\"\"\n",
    "    start_time = time.time()\n",
    "    clfr.fit(x_train_data, y_train_data)\n",
    "    y_pred = clfr.predict(x_test_data)\n",
    "    print(\"Time taken for prediction = %f seconds\" % (time.time() - start_time))\n",
    "\n",
    "    print(acc_str.format(accuracy_score(y_test_data, y_pred) * 100))\n",
    "    acc=accuracy_score(y_test_data, y_pred) * 100\n",
    "    return y_pred,acc\n"
   ]
  },
  {
   "cell_type": "markdown",
   "metadata": {},
   "source": [
    "## Pass the features to Random Forest Classifier for predictions"
   ]
  },
  {
   "cell_type": "code",
   "execution_count": 1653,
   "metadata": {},
   "outputs": [
    {
     "name": "stdout",
     "output_type": "stream",
     "text": [
      "Random Forest Classifier starting ...\n",
      "Time taken for prediction = 0.015631 seconds\n",
      "CNN-Random Forest Accuracy: 55.6%\n"
     ]
    }
   ],
   "source": [
    "from sklearn.ensemble import RandomForestClassifier\n",
    "import time\n",
    "print('Random Forest Classifier starting ...')\n",
    "partialDataRandomForestClassifier = RandomForestClassifier()\n",
    "y_pred,rfacc=genericClassifier(partialDataRandomForestClassifier, X_train, T_train, X_test, T_test, \"CNN-Random Forest Accuracy: {0:0.1f}%\", \"SVM Confusion matrix\")"
   ]
  },
  {
   "cell_type": "markdown",
   "metadata": {},
   "source": [
    "## Pass the features to Multi-Layer Perceptron Classifier for predictions"
   ]
  },
  {
   "cell_type": "code",
   "execution_count": 1654,
   "metadata": {},
   "outputs": [
    {
     "name": "stdout",
     "output_type": "stream",
     "text": [
      "Multi-Layer Perceptron Classifier starting ...\n",
      "Time taken for prediction = 0.486338 seconds\n",
      "CNN-Multi-Layer Perceptron Accuracy: 66.7%\n"
     ]
    }
   ],
   "source": [
    "from sklearn.neural_network import MLPClassifier\n",
    "import time\n",
    "print('Multi-Layer Perceptron Classifier starting ...')\n",
    "partialDataMLPClassifier = MLPClassifier()\n",
    "y_pred,mlpacc=genericClassifier(partialDataMLPClassifier, X_train, T_train, X_test, T_test, \"CNN-Multi-Layer Perceptron Accuracy: {0:0.1f}%\", \"SVM Confusion matrix\")"
   ]
  },
  {
   "cell_type": "markdown",
   "metadata": {},
   "source": [
    "## Pass the features to KNN Classifier for predictions"
   ]
  },
  {
   "cell_type": "code",
   "execution_count": 1655,
   "metadata": {},
   "outputs": [
    {
     "name": "stdout",
     "output_type": "stream",
     "text": [
      "KNN Classifier starting ...\n",
      "Time taken for prediction = 0.000000 seconds\n",
      "CNN-KNN Accuracy: 55.6%\n"
     ]
    }
   ],
   "source": [
    "from sklearn.neighbors import KNeighborsClassifier\n",
    "import time\n",
    "print('KNN Classifier starting ...')\n",
    "partialDataKNNClassifier = KNeighborsClassifier()\n",
    "y_pred,knnacc=genericClassifier(partialDataKNNClassifier, X_train, T_train, X_test, T_test, \"CNN-KNN Accuracy: {0:0.1f}%\", \"SVM Confusion matrix\")"
   ]
  },
  {
   "cell_type": "markdown",
   "metadata": {},
   "source": [
    "## Predict a full image by using model trained above\n",
    "\n",
    "### Image 'ba' "
   ]
  },
  {
   "cell_type": "code",
   "execution_count": 1660,
   "metadata": {},
   "outputs": [
    {
     "data": {
      "image/png": "[encoded data removed]",
      "text/plain": [
       "<matplotlib.figure.Figure at 0x1540914b3c8>"
      ]
     },
     "metadata": {},
     "output_type": "display_data"
    }
   ],
   "source": [
    "img11 = Image.open('./Sample/Train_Full_Data/character_23_ba/11206.png')\n",
    "\n",
    "imageArray = np.asarray(img11)\n",
    "flattenedImageArray = imageArray.flatten()\n",
    "z=flattenedImageArray.reshape(1,-1)\n",
    "plt.imshow(imageArray) \n",
    "plt.title('Label:ba')\n",
    "plt.show()\n"
   ]
  },
  {
   "cell_type": "code",
   "execution_count": 1661,
   "metadata": {},
   "outputs": [
    {
     "name": "stdout",
     "output_type": "stream",
     "text": [
      "KNN Classifier prediction =  kha\n",
      "MLP Classifier predictionn =  kha\n",
      "Random Forest Classifier prediction =  ba\n"
     ]
    }
   ],
   "source": [
    "print('KNN Classifier prediction = ',le.inverse_transform(partialDataKNNClassifier.predict(z)[0]))\n",
    "print('MLP Classifier predictionn = ',le.inverse_transform(partialDataMLPClassifier.predict(z)[0]))\n",
    "print('Random Forest Classifier prediction = ',le.inverse_transform(partialDataRandomForestClassifier.predict(z)[0]))"
   ]
  },
  {
   "cell_type": "markdown",
   "metadata": {},
   "source": [
    "### Image 'kha'"
   ]
  },
  {
   "cell_type": "code",
   "execution_count": 1662,
   "metadata": {},
   "outputs": [
    {
     "data": {
      "image/png": "[encoded data removed]",
      "text/plain": [
       "<matplotlib.figure.Figure at 0x15408a27940>"
      ]
     },
     "metadata": {},
     "output_type": "display_data"
    }
   ],
   "source": [
    "img11 = Image.open('./Sample/Train_Full_Data/character_2_kha/13205.png')\n",
    "\n",
    "imageArray = np.asarray(img11)\n",
    "flattenedImageArray = imageArray.flatten()\n",
    "z=flattenedImageArray.reshape(1,-1)\n",
    "plt.imshow(imageArray) \n",
    "plt.title('Label:kha')\n",
    "plt.show()\n"
   ]
  },
  {
   "cell_type": "code",
   "execution_count": 1385,
   "metadata": {},
   "outputs": [
    {
     "name": "stdout",
     "output_type": "stream",
     "text": [
      "KNN Classifier prediction =  ba\n",
      "MLP Classifier predictionn =  kha\n",
      "Random Forest Classifier prediction =  kha\n"
     ]
    }
   ],
   "source": [
    "print('KNN Classifier prediction = ',le.inverse_transform(partialDataKNNClassifier.predict(z)[0]))\n",
    "print('MLP Classifier predictionn = ',le.inverse_transform(partialDataMLPClassifier.predict(z)[0]))\n",
    "print('Random Forest Classifier prediction = ',le.inverse_transform(partialDataRandomForestClassifier.predict(z)[0]))"
   ]
  },
  {
   "cell_type": "markdown",
   "metadata": {},
   "source": [
    "### Image 'ka'"
   ]
  },
  {
   "cell_type": "code",
   "execution_count": 1663,
   "metadata": {},
   "outputs": [
    {
     "data": {
      "image/png": "[encoded data removed]",
      "text/plain": [
       "<matplotlib.figure.Figure at 0x15406b388d0>"
      ]
     },
     "metadata": {},
     "output_type": "display_data"
    }
   ],
   "source": [
    "img11 = Image.open('./Sample/Train_Full_Data/character_1_ka/1414.png')\n",
    "\n",
    "imageArray = np.asarray(img11)\n",
    "flattenedImageArray = imageArray.flatten()\n",
    "z=flattenedImageArray.reshape(1,-1)\n",
    "plt.imshow(imageArray) \n",
    "plt.title('Label:ka')\n",
    "plt.show()\n"
   ]
  },
  {
   "cell_type": "code",
   "execution_count": 1408,
   "metadata": {},
   "outputs": [
    {
     "name": "stdout",
     "output_type": "stream",
     "text": [
      "KNN Classifier prediction =  ba\n",
      "MLP Classifier predictionn =  kha\n",
      "Random Forest Classifier prediction =  kha\n"
     ]
    }
   ],
   "source": [
    "print('KNN Classifier prediction = ',le.inverse_transform(partialDataKNNClassifier.predict(z)[0]))\n",
    "print('MLP Classifier predictionn = ',le.inverse_transform(partialDataMLPClassifier.predict(z)[0]))\n",
    "print('Random Forest Classifier prediction = ',le.inverse_transform(partialDataRandomForestClassifier.predict(z)[0]))"
   ]
  },
  {
   "cell_type": "markdown",
   "metadata": {},
   "source": [
    "<font color='blue'> As observed the model correctly predicts 2 out of the 3 images passed images</font>"
   ]
  },
  {
   "cell_type": "markdown",
   "metadata": {},
   "source": [
    "# Predict cropped images by model trained on full character images "
   ]
  },
  {
   "cell_type": "markdown",
   "metadata": {},
   "source": [
    "## Read images"
   ]
  },
  {
   "cell_type": "code",
   "execution_count": 1664,
   "metadata": {},
   "outputs": [
    {
     "data": {
      "text/plain": [
       "62668800"
      ]
     },
     "execution_count": 1664,
     "metadata": {},
     "output_type": "execute_result"
    }
   ],
   "source": [
    "path = \"./Sample/Train_Full_Data/\"\n",
    "folders = os.listdir(path)\n",
    "imageList=[]\n",
    "imageMatrix = []\n",
    "newIm = []\n",
    "labels=[]\n",
    "# Get list of folders in current path\n",
    "for folder in folders:\n",
    "    newPath = path + folder  #Create new path by adding folder name\n",
    "    folderName = os.path.split(os.path.abspath(newPath))[1]\n",
    "    characterName = folderName.split(\"_\")[2]\n",
    "    imageList=[f for f in os.listdir(newPath) if os.path.splitext(f)[-1] == '.png'] #Check if PNG files only then add\n",
    "    for image in imageList:   #Traverse the list of files and add each file name to the imageFile\n",
    "        im = Image.open(newPath+\"//\"+image)\n",
    "        labels.append(characterName)\n",
    "        imageArray = np.asarray(im.getdata())\n",
    "        flattenedImageArray = imageArray.flatten()\n",
    "        imageMatrix.append(flattenedImageArray)\n",
    "np.size(imageMatrix)"
   ]
  },
  {
   "cell_type": "code",
   "execution_count": 1665,
   "metadata": {},
   "outputs": [
    {
     "name": "stdout",
     "output_type": "stream",
     "text": [
      "(61200, 1024)\n"
     ]
    }
   ],
   "source": [
    "a = np.array(imageMatrix)\n",
    "a\n",
    "print(a.shape)"
   ]
  },
  {
   "cell_type": "code",
   "execution_count": 1666,
   "metadata": {
    "collapsed": true
   },
   "outputs": [],
   "source": [
    "# labels"
   ]
  },
  {
   "cell_type": "code",
   "execution_count": 1667,
   "metadata": {
    "collapsed": true
   },
   "outputs": [],
   "source": [
    "import random\n",
    "from sklearn import ensemble,preprocessing"
   ]
  },
  {
   "cell_type": "markdown",
   "metadata": {},
   "source": [
    "## Extract features and target labels"
   ]
  },
  {
   "cell_type": "code",
   "execution_count": 1668,
   "metadata": {},
   "outputs": [
    {
     "name": "stdout",
     "output_type": "stream",
     "text": [
      "Features size =  (61200, 1024)\n",
      "Labels size =  (61200,)\n",
      "['yna' 'yna' 'yna' ..., 'jha' 'jha' 'jha']\n"
     ]
    }
   ],
   "source": [
    "#define variables\n",
    "n_samples = len(a)\n",
    "X = a.reshape((n_samples,-1))\n",
    "T = np.array(labels)\n",
    "print('Features size = ',X.shape)\n",
    "print('Labels size = ',T.shape)\n",
    "print(T)\n"
   ]
  },
  {
   "cell_type": "markdown",
   "metadata": {},
   "source": [
    "# Transform categorical target using one hot encoding"
   ]
  },
  {
   "cell_type": "code",
   "execution_count": 1669,
   "metadata": {
    "collapsed": true
   },
   "outputs": [],
   "source": [
    "le=preprocessing.LabelEncoder()\n",
    "le.fit(T)\n",
    "T=le.transform(T)\n",
    "\n",
    "T=keras.utils.np_utils.to_categorical(T)"
   ]
  },
  {
   "cell_type": "markdown",
   "metadata": {},
   "source": [
    "## Print mapping of one hot encoder"
   ]
  },
  {
   "cell_type": "code",
   "execution_count": 1670,
   "metadata": {},
   "outputs": [
    {
     "name": "stdout",
     "output_type": "stream",
     "text": [
      "{'adna': 0, 'ba': 1, 'bha': 2, 'cha': 3, 'chha': 4, 'chhya': 5, 'da': 6, 'daa': 7, 'dha': 8, 'dhaa': 9, 'ga': 10, 'gha': 11, 'gya': 12, 'ha': 13, 'ja': 14, 'jha': 15, 'ka': 16, 'kha': 17, 'kna': 18, 'la': 19, 'ma': 20, 'motosaw': 21, 'na': 22, 'pa': 23, 'patalosaw': 24, 'petchiryakha': 25, 'pha': 26, 'ra': 27, 'taamatar': 28, 'tabala': 29, 'tha': 30, 'thaa': 31, 'tra': 32, 'waw': 33, 'yaw': 34, 'yna': 35}\n"
     ]
    }
   ],
   "source": [
    "le_name_mapping = dict(zip(le.classes_, le.transform(le.classes_)))\n",
    "print(le_name_mapping)"
   ]
  },
  {
   "cell_type": "markdown",
   "metadata": {},
   "source": [
    "## Divide train and test data"
   ]
  },
  {
   "cell_type": "code",
   "execution_count": 1671,
   "metadata": {
    "collapsed": true
   },
   "outputs": [],
   "source": [
    "from sklearn.cross_validation import train_test_split\n",
    "X_train, X_test, T_train, T_test = train_test_split(X, T, test_size=0.3, random_state=34)"
   ]
  },
  {
   "cell_type": "code",
   "execution_count": 1672,
   "metadata": {},
   "outputs": [
    {
     "name": "stdout",
     "output_type": "stream",
     "text": [
      "Train size =  (42840, 1024)   (42840, 36)\n"
     ]
    }
   ],
   "source": [
    "print('Train size = ',X_train.shape,\" \",T_train.shape)"
   ]
  },
  {
   "cell_type": "code",
   "execution_count": 1673,
   "metadata": {
    "collapsed": true
   },
   "outputs": [],
   "source": [
    "import numpy as np\n",
    "import keras\n",
    "from keras import models, layers, losses, optimizers, metrics\n",
    "from keras.utils import to_categorical\n",
    "from sklearn.preprocessing import StandardScaler,LabelEncoder,OneHotEncoder\n",
    "import pandas as pd\n",
    "from sklearn.cross_validation import train_test_split\n",
    "import matplotlib.pyplot as plt\n",
    "%matplotlib inline\n",
    "from keras.layers import Dense, Conv2D, MaxPool2D, Flatten, Dropout\n",
    "from keras.models import Sequential\n"
   ]
  },
  {
   "cell_type": "code",
   "execution_count": 1674,
   "metadata": {
    "collapsed": true
   },
   "outputs": [],
   "source": [
    "img_height_rows = 32\n",
    "img_width_cols = 32"
   ]
  },
  {
   "cell_type": "code",
   "execution_count": 1675,
   "metadata": {},
   "outputs": [
    {
     "name": "stdout",
     "output_type": "stream",
     "text": [
      "(32, 32, 1)\n"
     ]
    }
   ],
   "source": [
    "im_shape = (img_height_rows, img_width_cols, 1)\n",
    "print(im_shape)\n",
    "x_train = X_train.reshape(X_train.shape[0], *im_shape) # Python TIP :the * operator unpacks the tuple\n",
    "x_test = X_test.reshape(X_test.shape[0], *im_shape)"
   ]
  },
  {
   "cell_type": "markdown",
   "metadata": {},
   "source": [
    "## Configure CNN"
   ]
  },
  {
   "cell_type": "code",
   "execution_count": 1676,
   "metadata": {
    "collapsed": true
   },
   "outputs": [],
   "source": [
    "cnn = Sequential()\n",
    "\n",
    "kernelSize = (3, 3)\n",
    "ip_activation = 'relu'\n",
    "ip_conv_0 = Conv2D(filters=4, kernel_size=kernelSize, input_shape=im_shape, activation=ip_activation)\n",
    "cnn.add(ip_conv_0)"
   ]
  },
  {
   "cell_type": "code",
   "execution_count": 1677,
   "metadata": {
    "collapsed": true
   },
   "outputs": [],
   "source": [
    "# Add the next Convolutional+Activation layer\n",
    "ip_conv_0_1 = Conv2D(filters=4, kernel_size=kernelSize, activation=ip_activation)\n",
    "cnn.add(ip_conv_0_1)\n",
    "\n",
    "# Add the Pooling layer\n",
    "pool_0 = MaxPool2D(pool_size=(2, 2), strides=(2, 2), padding=\"same\")\n",
    "cnn.add(pool_0)"
   ]
  },
  {
   "cell_type": "code",
   "execution_count": 1678,
   "metadata": {
    "collapsed": true
   },
   "outputs": [],
   "source": [
    "ip_conv_1 = Conv2D(filters=4, kernel_size=kernelSize, activation=ip_activation)\n",
    "cnn.add(ip_conv_1)\n",
    "ip_conv_1_1 = Conv2D(filters=4, kernel_size=kernelSize, activation=ip_activation)\n",
    "cnn.add(ip_conv_1_1)\n",
    "\n",
    "pool_1 = MaxPool2D(pool_size=(2, 2), strides=(2, 2), padding=\"same\")\n",
    "cnn.add(pool_1)"
   ]
  },
  {
   "cell_type": "code",
   "execution_count": 1679,
   "metadata": {
    "collapsed": true
   },
   "outputs": [],
   "source": [
    "# Let's deactivate around 20% of neurons randomly for training\n",
    "# drop_layer_0 = Dropout(0.2)\n",
    "# cnn.add(drop_layer_0)"
   ]
  },
  {
   "cell_type": "code",
   "execution_count": 1680,
   "metadata": {
    "collapsed": true
   },
   "outputs": [],
   "source": [
    "flat_layer_0 = Flatten()\n",
    "cnn.add(Flatten())"
   ]
  },
  {
   "cell_type": "code",
   "execution_count": 1681,
   "metadata": {
    "collapsed": true
   },
   "outputs": [],
   "source": [
    "# Now add the Dense layers\n",
    "h_dense_0 = Dense(units=20, activation=ip_activation, kernel_initializer='uniform')\n",
    "cnn.add(h_dense_0)\n",
    "# Let's add one more before proceeding to the output layer\n",
    "h_dense_1 = Dense(units=1024, activation=ip_activation, kernel_initializer='uniform',name='dense11')\n",
    "cnn.add(h_dense_1)"
   ]
  },
  {
   "cell_type": "code",
   "execution_count": 1682,
   "metadata": {
    "collapsed": true
   },
   "outputs": [],
   "source": [
    "n_classes = 36\n",
    "op_activation = 'softmax'\n",
    "output_layer = Dense(units=n_classes, activation=op_activation, kernel_initializer='uniform')\n",
    "cnn.add(output_layer)"
   ]
  },
  {
   "cell_type": "code",
   "execution_count": 1683,
   "metadata": {
    "collapsed": true
   },
   "outputs": [],
   "source": [
    "opt = optimizers.Adagrad(lr=0.001)\n",
    "loss = 'categorical_crossentropy'\n",
    "metrics = ['accuracy']\n",
    "# Compile the classifier using the configuration we want\n",
    "cnn.compile(optimizer=opt, loss=loss, metrics=metrics)"
   ]
  },
  {
   "cell_type": "code",
   "execution_count": 1684,
   "metadata": {
    "scrolled": true
   },
   "outputs": [
    {
     "name": "stdout",
     "output_type": "stream",
     "text": [
      "_________________________________________________________________\n",
      "Layer (type)                 Output Shape              Param #   \n",
      "=================================================================\n",
      "conv2d_132 (Conv2D)          (None, 30, 30, 4)         40        \n",
      "_________________________________________________________________\n",
      "conv2d_133 (Conv2D)          (None, 28, 28, 4)         148       \n",
      "_________________________________________________________________\n",
      "max_pooling2d_66 (MaxPooling (None, 14, 14, 4)         0         \n",
      "_________________________________________________________________\n",
      "conv2d_134 (Conv2D)          (None, 12, 12, 4)         148       \n",
      "_________________________________________________________________\n",
      "conv2d_135 (Conv2D)          (None, 10, 10, 4)         148       \n",
      "_________________________________________________________________\n",
      "max_pooling2d_67 (MaxPooling (None, 5, 5, 4)           0         \n",
      "_________________________________________________________________\n",
      "flatten_66 (Flatten)         (None, 100)               0         \n",
      "_________________________________________________________________\n",
      "dense_65 (Dense)             (None, 20)                2020      \n",
      "_________________________________________________________________\n",
      "dense11 (Dense)              (None, 1024)              21504     \n",
      "_________________________________________________________________\n",
      "dense_66 (Dense)             (None, 36)                36900     \n",
      "=================================================================\n",
      "Total params: 60,908\n",
      "Trainable params: 60,908\n",
      "Non-trainable params: 0\n",
      "_________________________________________________________________\n",
      "None\n"
     ]
    }
   ],
   "source": [
    "print(cnn.summary())"
   ]
  },
  {
   "cell_type": "code",
   "execution_count": 1685,
   "metadata": {},
   "outputs": [
    {
     "name": "stdout",
     "output_type": "stream",
     "text": [
      "Train on 42840 samples, validate on 18360 samples\n",
      "Epoch 1/10\n",
      "42840/42840 [==============================] - 31s 725us/step - loss: 2.4921 - acc: 0.3252 - val_loss: 1.9891 - val_acc: 0.4432\n",
      "Epoch 2/10\n",
      "42840/42840 [==============================] - 25s 581us/step - loss: 1.7583 - acc: 0.5090 - val_loss: 1.6665 - val_acc: 0.5314\n",
      "Epoch 3/10\n",
      "42840/42840 [==============================] - 25s 587us/step - loss: 1.5285 - acc: 0.5680 - val_loss: 1.4995 - val_acc: 0.5703\n",
      "Epoch 4/10\n",
      "42840/42840 [==============================] - 25s 580us/step - loss: 1.3889 - acc: 0.6026 - val_loss: 1.3832 - val_acc: 0.5978\n",
      "Epoch 5/10\n",
      "42840/42840 [==============================] - 25s 582us/step - loss: 1.2889 - acc: 0.6303 - val_loss: 1.2816 - val_acc: 0.6305\n",
      "Epoch 6/10\n",
      "42840/42840 [==============================] - 25s 586us/step - loss: 1.2097 - acc: 0.6508 - val_loss: 1.2066 - val_acc: 0.6535\n",
      "Epoch 7/10\n",
      "42840/42840 [==============================] - 26s 608us/step - loss: 1.1404 - acc: 0.6705 - val_loss: 1.1524 - val_acc: 0.6690\n",
      "Epoch 8/10\n",
      "42840/42840 [==============================] - 25s 586us/step - loss: 1.0785 - acc: 0.6868 - val_loss: 1.0888 - val_acc: 0.6828\n",
      "Epoch 9/10\n",
      "42840/42840 [==============================] - 25s 590us/step - loss: 1.0265 - acc: 0.7030 - val_loss: 1.0490 - val_acc: 0.6922\n",
      "Epoch 10/10\n",
      "42840/42840 [==============================] - 25s 586us/step - loss: 0.9832 - acc: 0.7142 - val_loss: 1.0071 - val_acc: 0.7074\n"
     ]
    }
   ],
   "source": [
    "history = cnn.fit(x_train, T_train,\n",
    "                  batch_size=200, epochs=10,\n",
    "                  validation_data=(x_test, T_test))"
   ]
  },
  {
   "cell_type": "code",
   "execution_count": 1686,
   "metadata": {},
   "outputs": [
    {
     "data": {
      "text/plain": [
       "<matplotlib.legend.Legend at 0x1540d5e5dd8>"
      ]
     },
     "execution_count": 1686,
     "metadata": {},
     "output_type": "execute_result"
    },
    {
     "data": {
      "image/png": "[encoded data removed]",
      "text/plain": [
       "<matplotlib.figure.Figure at 0x1540d5249b0>"
      ]
     },
     "metadata": {},
     "output_type": "display_data"
    }
   ],
   "source": [
    "plt.plot(history.history['acc'])\n",
    "plt.plot(history.history['val_acc'])\n",
    "plt.legend(['Training Accuracy','Validation Accuracy'])"
   ]
  },
  {
   "cell_type": "markdown",
   "metadata": {},
   "source": [
    "## Evaluate model performance"
   ]
  },
  {
   "cell_type": "code",
   "execution_count": 1687,
   "metadata": {},
   "outputs": [
    {
     "name": "stdout",
     "output_type": "stream",
     "text": [
      "Accuracy: 70.74%\n"
     ]
    }
   ],
   "source": [
    "scores = cnn.evaluate(x_test, T_test, verbose=0)\n",
    "print(\"Accuracy: %.2f%%\" % (scores[1]*100))"
   ]
  },
  {
   "cell_type": "markdown",
   "metadata": {},
   "source": [
    "## Extract features"
   ]
  },
  {
   "cell_type": "code",
   "execution_count": 1688,
   "metadata": {
    "collapsed": true
   },
   "outputs": [],
   "source": [
    "from keras.models import Model\n",
    "\n",
    "model = cnn\n",
    "layer_name= 'dense11'\n",
    "intermediate_layer_model = Model(inputs=cnn.input,\n",
    "                                 outputs=model.get_layer(layer_name).output)\n",
    "intermediate_output = intermediate_layer_model.predict(x_train)"
   ]
  },
  {
   "cell_type": "code",
   "execution_count": 1689,
   "metadata": {
    "collapsed": true
   },
   "outputs": [],
   "source": [
    "x_train = intermediate_output"
   ]
  },
  {
   "cell_type": "markdown",
   "metadata": {},
   "source": [
    "## Convert target variables to categorical"
   ]
  },
  {
   "cell_type": "code",
   "execution_count": 1690,
   "metadata": {},
   "outputs": [
    {
     "data": {
      "text/plain": [
       "array([ 9, 14,  6, ..., 13, 21, 29], dtype=int64)"
      ]
     },
     "execution_count": 1690,
     "metadata": {},
     "output_type": "execute_result"
    }
   ],
   "source": [
    "import numpy as np\n",
    "T1 = np.argmax(T_train, axis=1)\n",
    "T1"
   ]
  },
  {
   "cell_type": "markdown",
   "metadata": {},
   "source": [
    "## Split into train and test data"
   ]
  },
  {
   "cell_type": "code",
   "execution_count": 1691,
   "metadata": {
    "collapsed": true
   },
   "outputs": [],
   "source": [
    "from sklearn.cross_validation import train_test_split\n",
    "X_train, X_test, T_train, T_test = train_test_split(x_train, T1, test_size=0.3, random_state=34)"
   ]
  },
  {
   "cell_type": "code",
   "execution_count": 1692,
   "metadata": {
    "collapsed": true
   },
   "outputs": [],
   "source": [
    "from sklearn.metrics import accuracy_score, confusion_matrix"
   ]
  },
  {
   "cell_type": "markdown",
   "metadata": {},
   "source": [
    "## Generic function to call the classifiers and evaluate their performance"
   ]
  },
  {
   "cell_type": "code",
   "execution_count": 1694,
   "metadata": {
    "collapsed": true
   },
   "outputs": [],
   "source": [
    "def genericClassifier(clfr, x_train_data, y_train_data, x_test_data, y_test_data, acc_str, matrix_header_str):\n",
    "    \"\"\"run chosen classifier and display results\"\"\"\n",
    "    start_time = time.time()\n",
    "    clfr.fit(x_train_data, y_train_data)\n",
    "    y_pred = clfr.predict(x_test_data)\n",
    "    print(\"Time taken for prediction = %f seconds\" % (time.time() - start_time))\n",
    "\n",
    "    print(acc_str.format(accuracy_score(y_test_data, y_pred) * 100))\n",
    "    acc=accuracy_score(y_test_data, y_pred) * 100\n",
    "    return y_pred,acc\n"
   ]
  },
  {
   "cell_type": "markdown",
   "metadata": {},
   "source": [
    "## Pass the features to Random Forest Classifier for predictions"
   ]
  },
  {
   "cell_type": "code",
   "execution_count": 1695,
   "metadata": {},
   "outputs": [
    {
     "name": "stdout",
     "output_type": "stream",
     "text": [
      "Random Forest Classifier starting ...\n",
      "Time taken for prediction = 9.728068 seconds\n",
      "CNN-Random Forest Accuracy: 71.2%\n"
     ]
    }
   ],
   "source": [
    "from sklearn.ensemble import RandomForestClassifier\n",
    "import time\n",
    "print('Random Forest Classifier starting ...')\n",
    "partialDataRandomForestClassifier = RandomForestClassifier()\n",
    "y_pred,rfacc=genericClassifier(partialDataRandomForestClassifier, X_train, T_train, X_test, T_test, \"CNN-Random Forest Accuracy: {0:0.1f}%\", \"SVM Confusion matrix\")"
   ]
  },
  {
   "cell_type": "markdown",
   "metadata": {},
   "source": [
    "## Pass the features to Multi-Layer Perceptron Classifier for predictions"
   ]
  },
  {
   "cell_type": "code",
   "execution_count": 1696,
   "metadata": {},
   "outputs": [
    {
     "name": "stdout",
     "output_type": "stream",
     "text": [
      "Multi-Layer Perceptron Classifier starting ...\n",
      "Time taken for prediction = 97.135373 seconds\n",
      "CNN-Multi-Layer Perceptron Accuracy: 77.2%\n"
     ]
    }
   ],
   "source": [
    "from sklearn.neural_network import MLPClassifier\n",
    "import time\n",
    "print('Multi-Layer Perceptron Classifier starting ...')\n",
    "partialDataMLPClassifier = MLPClassifier()\n",
    "y_pred,mlpacc=genericClassifier(partialDataMLPClassifier, X_train, T_train, X_test, T_test, \"CNN-Multi-Layer Perceptron Accuracy: {0:0.1f}%\", \"SVM Confusion matrix\")"
   ]
  },
  {
   "cell_type": "markdown",
   "metadata": {},
   "source": [
    "## Pass the features to KNN Classifier for predictions"
   ]
  },
  {
   "cell_type": "code",
   "execution_count": 1697,
   "metadata": {},
   "outputs": [
    {
     "name": "stdout",
     "output_type": "stream",
     "text": [
      "KNN Classifier starting ...\n",
      "Time taken for prediction = 673.694516 seconds\n",
      "CNN-KNN Accuracy: 81.4%\n"
     ]
    }
   ],
   "source": [
    "from sklearn.neighbors import KNeighborsClassifier\n",
    "import time\n",
    "print('KNN Classifier starting ...')\n",
    "partialDataKNNClassifier = KNeighborsClassifier()\n",
    "y_pred,knnacc=genericClassifier(partialDataKNNClassifier, X_train, T_train, X_test, T_test, \"CNN-KNN Accuracy: {0:0.1f}%\", \"SVM Confusion matrix\")"
   ]
  },
  {
   "cell_type": "code",
   "execution_count": 1698,
   "metadata": {},
   "outputs": [
    {
     "data": {
      "image/png": "[encoded data removed]",
      "text/plain": [
       "<matplotlib.figure.Figure at 0x154091e3550>"
      ]
     },
     "metadata": {},
     "output_type": "display_data"
    },
    {
     "name": "stdout",
     "output_type": "stream",
     "text": [
      "KNN Classifier prediction =  jha\n",
      "MLP Classifier predictionn =  chha\n",
      "Random Forest Classifier prediction =  tra\n"
     ]
    }
   ],
   "source": [
    "img11 = Image.open('./Sample/Predict_Cropped_Images/10.jpg')\n",
    "\n",
    "imageArray = np.asarray(img11)\n",
    "flattenedImageArray = imageArray.flatten()\n",
    "z=flattenedImageArray.reshape(1,-1)\n",
    "plt.imshow(imageArray) \n",
    "plt.title('Label:kna')\n",
    "plt.show()\n",
    "print('KNN Classifier prediction = ',le.inverse_transform(partialDataKNNClassifier.predict(z)[0]))\n",
    "print('MLP Classifier predictionn = ',le.inverse_transform(partialDataMLPClassifier.predict(z)[0]))\n",
    "print('Random Forest Classifier prediction = ',le.inverse_transform(partialDataRandomForestClassifier.predict(z)[0]))"
   ]
  },
  {
   "cell_type": "markdown",
   "metadata": {},
   "source": [
    "<font color=\"blue\">\n",
    "- As it can be seen the reverse way of training the model on full images and then using it to predict the cropped images isn't giving correct predictions due to many similar  looking characters.\n",
    "</font>"
   ]
  },
  {
   "cell_type": "markdown",
   "metadata": {},
   "source": [
    "# Results discussion about cropped images training and prediction\n",
    "\n",
    "Key points about the above implementation are:\n",
    "\n",
    "* The model was trained on cropped character images and then used to predict the full character images.\n",
    "* On this setup the model was able to predict atleast some characters correctly if not all.\n",
    "* Model was then trained on full character images and then used to predict the cropped images of characters.\n",
    "* This caused the degraded model performance due to increased misclassification.\n",
    "* It is an expected result since croppping of the images may alter their characteristics to transform them into similar looking  other characters thereby causing the model to predict them incorrectly.\n",
    "* For eg. if character 'ka' is cropped vertically into exact half then left half is exactly same as the character 'waw' this causes the misclassificatio degrading the model performance.\n",
    "\n",
    "__CONCLUSION__: \n",
    "* It was found that model prediction was good when trained on cropped character images and used to predict full characters since the model could look for the features in cropped images and locate them in the full images.\n",
    "* However if the model was trained on full character images and then a cropped character image was given to it, the accuracy of the model was hampered with possible reason being that the cropped image may look similar to some other character."
   ]
  }
 ],
 "metadata": {
  "kernelspec": {
   "display_name": "Python 3",
   "language": "python",
   "name": "python3"
  },
  "language_info": {
   "codemirror_mode": {
    "name": "ipython",
    "version": 3
   },
   "file_extension": ".py",
   "mimetype": "text/x-python",
   "name": "python",
   "nbconvert_exporter": "python",
   "pygments_lexer": "ipython3",
   "version": "3.6.3"
  }
 },
 "nbformat": 4,
 "nbformat_minor": 2
}
